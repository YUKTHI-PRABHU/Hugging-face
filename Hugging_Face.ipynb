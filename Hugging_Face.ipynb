{
  "nbformat": 4,
  "nbformat_minor": 0,
  "metadata": {
    "colab": {
      "provenance": [],
      "authorship_tag": "ABX9TyOAkfCKnBhxd0YnW5LVdB01",
      "include_colab_link": true
    },
    "kernelspec": {
      "name": "python3",
      "display_name": "Python 3"
    },
    "language_info": {
      "name": "python"
    },
    "widgets": {
      "application/vnd.jupyter.widget-state+json": {
        "867846c341ff4ad584c5c11e1e2f5d91": {
          "model_module": "@jupyter-widgets/controls",
          "model_name": "HBoxModel",
          "model_module_version": "1.5.0",
          "state": {
            "_dom_classes": [],
            "_model_module": "@jupyter-widgets/controls",
            "_model_module_version": "1.5.0",
            "_model_name": "HBoxModel",
            "_view_count": null,
            "_view_module": "@jupyter-widgets/controls",
            "_view_module_version": "1.5.0",
            "_view_name": "HBoxView",
            "box_style": "",
            "children": [
              "IPY_MODEL_9662a76a8bcd4da2a2475285be575158",
              "IPY_MODEL_e634324c0e1540cb9eb8598c37dd0e93",
              "IPY_MODEL_b9796160f6a846a4aed943fe52b3c332"
            ],
            "layout": "IPY_MODEL_54ca36054d2e448cabec4f860124e161"
          }
        },
        "9662a76a8bcd4da2a2475285be575158": {
          "model_module": "@jupyter-widgets/controls",
          "model_name": "HTMLModel",
          "model_module_version": "1.5.0",
          "state": {
            "_dom_classes": [],
            "_model_module": "@jupyter-widgets/controls",
            "_model_module_version": "1.5.0",
            "_model_name": "HTMLModel",
            "_view_count": null,
            "_view_module": "@jupyter-widgets/controls",
            "_view_module_version": "1.5.0",
            "_view_name": "HTMLView",
            "description": "",
            "description_tooltip": null,
            "layout": "IPY_MODEL_41a91de1ae3a410aa55df260f5e2ae7e",
            "placeholder": "​",
            "style": "IPY_MODEL_cd4539acb5204e89a6dc8884ea53ec4a",
            "value": "tokenizer_config.json: 100%"
          }
        },
        "e634324c0e1540cb9eb8598c37dd0e93": {
          "model_module": "@jupyter-widgets/controls",
          "model_name": "FloatProgressModel",
          "model_module_version": "1.5.0",
          "state": {
            "_dom_classes": [],
            "_model_module": "@jupyter-widgets/controls",
            "_model_module_version": "1.5.0",
            "_model_name": "FloatProgressModel",
            "_view_count": null,
            "_view_module": "@jupyter-widgets/controls",
            "_view_module_version": "1.5.0",
            "_view_name": "ProgressView",
            "bar_style": "success",
            "description": "",
            "description_tooltip": null,
            "layout": "IPY_MODEL_6b80b64d3d2f41c992b181d88f1e4191",
            "max": 163,
            "min": 0,
            "orientation": "horizontal",
            "style": "IPY_MODEL_c22752e8853e44e79bc2ea271f4faffb",
            "value": 163
          }
        },
        "b9796160f6a846a4aed943fe52b3c332": {
          "model_module": "@jupyter-widgets/controls",
          "model_name": "HTMLModel",
          "model_module_version": "1.5.0",
          "state": {
            "_dom_classes": [],
            "_model_module": "@jupyter-widgets/controls",
            "_model_module_version": "1.5.0",
            "_model_name": "HTMLModel",
            "_view_count": null,
            "_view_module": "@jupyter-widgets/controls",
            "_view_module_version": "1.5.0",
            "_view_name": "HTMLView",
            "description": "",
            "description_tooltip": null,
            "layout": "IPY_MODEL_0bfa11d0fd03490fb1321437cdeab263",
            "placeholder": "​",
            "style": "IPY_MODEL_2afe05139bc04a4092f070a2a66106a0",
            "value": " 163/163 [00:00&lt;00:00, 8.05kB/s]"
          }
        },
        "54ca36054d2e448cabec4f860124e161": {
          "model_module": "@jupyter-widgets/base",
          "model_name": "LayoutModel",
          "model_module_version": "1.2.0",
          "state": {
            "_model_module": "@jupyter-widgets/base",
            "_model_module_version": "1.2.0",
            "_model_name": "LayoutModel",
            "_view_count": null,
            "_view_module": "@jupyter-widgets/base",
            "_view_module_version": "1.2.0",
            "_view_name": "LayoutView",
            "align_content": null,
            "align_items": null,
            "align_self": null,
            "border": null,
            "bottom": null,
            "display": null,
            "flex": null,
            "flex_flow": null,
            "grid_area": null,
            "grid_auto_columns": null,
            "grid_auto_flow": null,
            "grid_auto_rows": null,
            "grid_column": null,
            "grid_gap": null,
            "grid_row": null,
            "grid_template_areas": null,
            "grid_template_columns": null,
            "grid_template_rows": null,
            "height": null,
            "justify_content": null,
            "justify_items": null,
            "left": null,
            "margin": null,
            "max_height": null,
            "max_width": null,
            "min_height": null,
            "min_width": null,
            "object_fit": null,
            "object_position": null,
            "order": null,
            "overflow": null,
            "overflow_x": null,
            "overflow_y": null,
            "padding": null,
            "right": null,
            "top": null,
            "visibility": null,
            "width": null
          }
        },
        "41a91de1ae3a410aa55df260f5e2ae7e": {
          "model_module": "@jupyter-widgets/base",
          "model_name": "LayoutModel",
          "model_module_version": "1.2.0",
          "state": {
            "_model_module": "@jupyter-widgets/base",
            "_model_module_version": "1.2.0",
            "_model_name": "LayoutModel",
            "_view_count": null,
            "_view_module": "@jupyter-widgets/base",
            "_view_module_version": "1.2.0",
            "_view_name": "LayoutView",
            "align_content": null,
            "align_items": null,
            "align_self": null,
            "border": null,
            "bottom": null,
            "display": null,
            "flex": null,
            "flex_flow": null,
            "grid_area": null,
            "grid_auto_columns": null,
            "grid_auto_flow": null,
            "grid_auto_rows": null,
            "grid_column": null,
            "grid_gap": null,
            "grid_row": null,
            "grid_template_areas": null,
            "grid_template_columns": null,
            "grid_template_rows": null,
            "height": null,
            "justify_content": null,
            "justify_items": null,
            "left": null,
            "margin": null,
            "max_height": null,
            "max_width": null,
            "min_height": null,
            "min_width": null,
            "object_fit": null,
            "object_position": null,
            "order": null,
            "overflow": null,
            "overflow_x": null,
            "overflow_y": null,
            "padding": null,
            "right": null,
            "top": null,
            "visibility": null,
            "width": null
          }
        },
        "cd4539acb5204e89a6dc8884ea53ec4a": {
          "model_module": "@jupyter-widgets/controls",
          "model_name": "DescriptionStyleModel",
          "model_module_version": "1.5.0",
          "state": {
            "_model_module": "@jupyter-widgets/controls",
            "_model_module_version": "1.5.0",
            "_model_name": "DescriptionStyleModel",
            "_view_count": null,
            "_view_module": "@jupyter-widgets/base",
            "_view_module_version": "1.2.0",
            "_view_name": "StyleView",
            "description_width": ""
          }
        },
        "6b80b64d3d2f41c992b181d88f1e4191": {
          "model_module": "@jupyter-widgets/base",
          "model_name": "LayoutModel",
          "model_module_version": "1.2.0",
          "state": {
            "_model_module": "@jupyter-widgets/base",
            "_model_module_version": "1.2.0",
            "_model_name": "LayoutModel",
            "_view_count": null,
            "_view_module": "@jupyter-widgets/base",
            "_view_module_version": "1.2.0",
            "_view_name": "LayoutView",
            "align_content": null,
            "align_items": null,
            "align_self": null,
            "border": null,
            "bottom": null,
            "display": null,
            "flex": null,
            "flex_flow": null,
            "grid_area": null,
            "grid_auto_columns": null,
            "grid_auto_flow": null,
            "grid_auto_rows": null,
            "grid_column": null,
            "grid_gap": null,
            "grid_row": null,
            "grid_template_areas": null,
            "grid_template_columns": null,
            "grid_template_rows": null,
            "height": null,
            "justify_content": null,
            "justify_items": null,
            "left": null,
            "margin": null,
            "max_height": null,
            "max_width": null,
            "min_height": null,
            "min_width": null,
            "object_fit": null,
            "object_position": null,
            "order": null,
            "overflow": null,
            "overflow_x": null,
            "overflow_y": null,
            "padding": null,
            "right": null,
            "top": null,
            "visibility": null,
            "width": null
          }
        },
        "c22752e8853e44e79bc2ea271f4faffb": {
          "model_module": "@jupyter-widgets/controls",
          "model_name": "ProgressStyleModel",
          "model_module_version": "1.5.0",
          "state": {
            "_model_module": "@jupyter-widgets/controls",
            "_model_module_version": "1.5.0",
            "_model_name": "ProgressStyleModel",
            "_view_count": null,
            "_view_module": "@jupyter-widgets/base",
            "_view_module_version": "1.2.0",
            "_view_name": "StyleView",
            "bar_color": null,
            "description_width": ""
          }
        },
        "0bfa11d0fd03490fb1321437cdeab263": {
          "model_module": "@jupyter-widgets/base",
          "model_name": "LayoutModel",
          "model_module_version": "1.2.0",
          "state": {
            "_model_module": "@jupyter-widgets/base",
            "_model_module_version": "1.2.0",
            "_model_name": "LayoutModel",
            "_view_count": null,
            "_view_module": "@jupyter-widgets/base",
            "_view_module_version": "1.2.0",
            "_view_name": "LayoutView",
            "align_content": null,
            "align_items": null,
            "align_self": null,
            "border": null,
            "bottom": null,
            "display": null,
            "flex": null,
            "flex_flow": null,
            "grid_area": null,
            "grid_auto_columns": null,
            "grid_auto_flow": null,
            "grid_auto_rows": null,
            "grid_column": null,
            "grid_gap": null,
            "grid_row": null,
            "grid_template_areas": null,
            "grid_template_columns": null,
            "grid_template_rows": null,
            "height": null,
            "justify_content": null,
            "justify_items": null,
            "left": null,
            "margin": null,
            "max_height": null,
            "max_width": null,
            "min_height": null,
            "min_width": null,
            "object_fit": null,
            "object_position": null,
            "order": null,
            "overflow": null,
            "overflow_x": null,
            "overflow_y": null,
            "padding": null,
            "right": null,
            "top": null,
            "visibility": null,
            "width": null
          }
        },
        "2afe05139bc04a4092f070a2a66106a0": {
          "model_module": "@jupyter-widgets/controls",
          "model_name": "DescriptionStyleModel",
          "model_module_version": "1.5.0",
          "state": {
            "_model_module": "@jupyter-widgets/controls",
            "_model_module_version": "1.5.0",
            "_model_name": "DescriptionStyleModel",
            "_view_count": null,
            "_view_module": "@jupyter-widgets/base",
            "_view_module_version": "1.2.0",
            "_view_name": "StyleView",
            "description_width": ""
          }
        },
        "70679d76c0ee486a8be89e6e8d9633aa": {
          "model_module": "@jupyter-widgets/controls",
          "model_name": "HBoxModel",
          "model_module_version": "1.5.0",
          "state": {
            "_dom_classes": [],
            "_model_module": "@jupyter-widgets/controls",
            "_model_module_version": "1.5.0",
            "_model_name": "HBoxModel",
            "_view_count": null,
            "_view_module": "@jupyter-widgets/controls",
            "_view_module_version": "1.5.0",
            "_view_name": "HBoxView",
            "box_style": "",
            "children": [
              "IPY_MODEL_89d91874ca4947288161bd25ead05f1b",
              "IPY_MODEL_4d2017e5b1c1414f8082d74ae09a71e0",
              "IPY_MODEL_9f3e34761b944275bac91358fde48e9c"
            ],
            "layout": "IPY_MODEL_1ccad47c41aa45679714bc3961cdd1d1"
          }
        },
        "89d91874ca4947288161bd25ead05f1b": {
          "model_module": "@jupyter-widgets/controls",
          "model_name": "HTMLModel",
          "model_module_version": "1.5.0",
          "state": {
            "_dom_classes": [],
            "_model_module": "@jupyter-widgets/controls",
            "_model_module_version": "1.5.0",
            "_model_name": "HTMLModel",
            "_view_count": null,
            "_view_module": "@jupyter-widgets/controls",
            "_view_module_version": "1.5.0",
            "_view_name": "HTMLView",
            "description": "",
            "description_tooltip": null,
            "layout": "IPY_MODEL_65b7af0611074b24a3e7cd1a05e798d8",
            "placeholder": "​",
            "style": "IPY_MODEL_91681f2bbb9f4ae9b3a60c25902938a0",
            "value": "vocab.json: 100%"
          }
        },
        "4d2017e5b1c1414f8082d74ae09a71e0": {
          "model_module": "@jupyter-widgets/controls",
          "model_name": "FloatProgressModel",
          "model_module_version": "1.5.0",
          "state": {
            "_dom_classes": [],
            "_model_module": "@jupyter-widgets/controls",
            "_model_module_version": "1.5.0",
            "_model_name": "FloatProgressModel",
            "_view_count": null,
            "_view_module": "@jupyter-widgets/controls",
            "_view_module_version": "1.5.0",
            "_view_name": "ProgressView",
            "bar_style": "success",
            "description": "",
            "description_tooltip": null,
            "layout": "IPY_MODEL_63882b57fa104ccf9f964ab741f905d2",
            "max": 291,
            "min": 0,
            "orientation": "horizontal",
            "style": "IPY_MODEL_e57a8bff392c41a2a8082a0c73aa7ac0",
            "value": 291
          }
        },
        "9f3e34761b944275bac91358fde48e9c": {
          "model_module": "@jupyter-widgets/controls",
          "model_name": "HTMLModel",
          "model_module_version": "1.5.0",
          "state": {
            "_dom_classes": [],
            "_model_module": "@jupyter-widgets/controls",
            "_model_module_version": "1.5.0",
            "_model_name": "HTMLModel",
            "_view_count": null,
            "_view_module": "@jupyter-widgets/controls",
            "_view_module_version": "1.5.0",
            "_view_name": "HTMLView",
            "description": "",
            "description_tooltip": null,
            "layout": "IPY_MODEL_63ce6f6e071341a9a5c8b289ee9d990e",
            "placeholder": "​",
            "style": "IPY_MODEL_3f51f042b19541c0935f6d1be5dc3483",
            "value": " 291/291 [00:00&lt;00:00, 18.5kB/s]"
          }
        },
        "1ccad47c41aa45679714bc3961cdd1d1": {
          "model_module": "@jupyter-widgets/base",
          "model_name": "LayoutModel",
          "model_module_version": "1.2.0",
          "state": {
            "_model_module": "@jupyter-widgets/base",
            "_model_module_version": "1.2.0",
            "_model_name": "LayoutModel",
            "_view_count": null,
            "_view_module": "@jupyter-widgets/base",
            "_view_module_version": "1.2.0",
            "_view_name": "LayoutView",
            "align_content": null,
            "align_items": null,
            "align_self": null,
            "border": null,
            "bottom": null,
            "display": null,
            "flex": null,
            "flex_flow": null,
            "grid_area": null,
            "grid_auto_columns": null,
            "grid_auto_flow": null,
            "grid_auto_rows": null,
            "grid_column": null,
            "grid_gap": null,
            "grid_row": null,
            "grid_template_areas": null,
            "grid_template_columns": null,
            "grid_template_rows": null,
            "height": null,
            "justify_content": null,
            "justify_items": null,
            "left": null,
            "margin": null,
            "max_height": null,
            "max_width": null,
            "min_height": null,
            "min_width": null,
            "object_fit": null,
            "object_position": null,
            "order": null,
            "overflow": null,
            "overflow_x": null,
            "overflow_y": null,
            "padding": null,
            "right": null,
            "top": null,
            "visibility": null,
            "width": null
          }
        },
        "65b7af0611074b24a3e7cd1a05e798d8": {
          "model_module": "@jupyter-widgets/base",
          "model_name": "LayoutModel",
          "model_module_version": "1.2.0",
          "state": {
            "_model_module": "@jupyter-widgets/base",
            "_model_module_version": "1.2.0",
            "_model_name": "LayoutModel",
            "_view_count": null,
            "_view_module": "@jupyter-widgets/base",
            "_view_module_version": "1.2.0",
            "_view_name": "LayoutView",
            "align_content": null,
            "align_items": null,
            "align_self": null,
            "border": null,
            "bottom": null,
            "display": null,
            "flex": null,
            "flex_flow": null,
            "grid_area": null,
            "grid_auto_columns": null,
            "grid_auto_flow": null,
            "grid_auto_rows": null,
            "grid_column": null,
            "grid_gap": null,
            "grid_row": null,
            "grid_template_areas": null,
            "grid_template_columns": null,
            "grid_template_rows": null,
            "height": null,
            "justify_content": null,
            "justify_items": null,
            "left": null,
            "margin": null,
            "max_height": null,
            "max_width": null,
            "min_height": null,
            "min_width": null,
            "object_fit": null,
            "object_position": null,
            "order": null,
            "overflow": null,
            "overflow_x": null,
            "overflow_y": null,
            "padding": null,
            "right": null,
            "top": null,
            "visibility": null,
            "width": null
          }
        },
        "91681f2bbb9f4ae9b3a60c25902938a0": {
          "model_module": "@jupyter-widgets/controls",
          "model_name": "DescriptionStyleModel",
          "model_module_version": "1.5.0",
          "state": {
            "_model_module": "@jupyter-widgets/controls",
            "_model_module_version": "1.5.0",
            "_model_name": "DescriptionStyleModel",
            "_view_count": null,
            "_view_module": "@jupyter-widgets/base",
            "_view_module_version": "1.2.0",
            "_view_name": "StyleView",
            "description_width": ""
          }
        },
        "63882b57fa104ccf9f964ab741f905d2": {
          "model_module": "@jupyter-widgets/base",
          "model_name": "LayoutModel",
          "model_module_version": "1.2.0",
          "state": {
            "_model_module": "@jupyter-widgets/base",
            "_model_module_version": "1.2.0",
            "_model_name": "LayoutModel",
            "_view_count": null,
            "_view_module": "@jupyter-widgets/base",
            "_view_module_version": "1.2.0",
            "_view_name": "LayoutView",
            "align_content": null,
            "align_items": null,
            "align_self": null,
            "border": null,
            "bottom": null,
            "display": null,
            "flex": null,
            "flex_flow": null,
            "grid_area": null,
            "grid_auto_columns": null,
            "grid_auto_flow": null,
            "grid_auto_rows": null,
            "grid_column": null,
            "grid_gap": null,
            "grid_row": null,
            "grid_template_areas": null,
            "grid_template_columns": null,
            "grid_template_rows": null,
            "height": null,
            "justify_content": null,
            "justify_items": null,
            "left": null,
            "margin": null,
            "max_height": null,
            "max_width": null,
            "min_height": null,
            "min_width": null,
            "object_fit": null,
            "object_position": null,
            "order": null,
            "overflow": null,
            "overflow_x": null,
            "overflow_y": null,
            "padding": null,
            "right": null,
            "top": null,
            "visibility": null,
            "width": null
          }
        },
        "e57a8bff392c41a2a8082a0c73aa7ac0": {
          "model_module": "@jupyter-widgets/controls",
          "model_name": "ProgressStyleModel",
          "model_module_version": "1.5.0",
          "state": {
            "_model_module": "@jupyter-widgets/controls",
            "_model_module_version": "1.5.0",
            "_model_name": "ProgressStyleModel",
            "_view_count": null,
            "_view_module": "@jupyter-widgets/base",
            "_view_module_version": "1.2.0",
            "_view_name": "StyleView",
            "bar_color": null,
            "description_width": ""
          }
        },
        "63ce6f6e071341a9a5c8b289ee9d990e": {
          "model_module": "@jupyter-widgets/base",
          "model_name": "LayoutModel",
          "model_module_version": "1.2.0",
          "state": {
            "_model_module": "@jupyter-widgets/base",
            "_model_module_version": "1.2.0",
            "_model_name": "LayoutModel",
            "_view_count": null,
            "_view_module": "@jupyter-widgets/base",
            "_view_module_version": "1.2.0",
            "_view_name": "LayoutView",
            "align_content": null,
            "align_items": null,
            "align_self": null,
            "border": null,
            "bottom": null,
            "display": null,
            "flex": null,
            "flex_flow": null,
            "grid_area": null,
            "grid_auto_columns": null,
            "grid_auto_flow": null,
            "grid_auto_rows": null,
            "grid_column": null,
            "grid_gap": null,
            "grid_row": null,
            "grid_template_areas": null,
            "grid_template_columns": null,
            "grid_template_rows": null,
            "height": null,
            "justify_content": null,
            "justify_items": null,
            "left": null,
            "margin": null,
            "max_height": null,
            "max_width": null,
            "min_height": null,
            "min_width": null,
            "object_fit": null,
            "object_position": null,
            "order": null,
            "overflow": null,
            "overflow_x": null,
            "overflow_y": null,
            "padding": null,
            "right": null,
            "top": null,
            "visibility": null,
            "width": null
          }
        },
        "3f51f042b19541c0935f6d1be5dc3483": {
          "model_module": "@jupyter-widgets/controls",
          "model_name": "DescriptionStyleModel",
          "model_module_version": "1.5.0",
          "state": {
            "_model_module": "@jupyter-widgets/controls",
            "_model_module_version": "1.5.0",
            "_model_name": "DescriptionStyleModel",
            "_view_count": null,
            "_view_module": "@jupyter-widgets/base",
            "_view_module_version": "1.2.0",
            "_view_name": "StyleView",
            "description_width": ""
          }
        },
        "42b04738ed01493397b36bc580630368": {
          "model_module": "@jupyter-widgets/controls",
          "model_name": "HBoxModel",
          "model_module_version": "1.5.0",
          "state": {
            "_dom_classes": [],
            "_model_module": "@jupyter-widgets/controls",
            "_model_module_version": "1.5.0",
            "_model_name": "HBoxModel",
            "_view_count": null,
            "_view_module": "@jupyter-widgets/controls",
            "_view_module_version": "1.5.0",
            "_view_name": "HBoxView",
            "box_style": "",
            "children": [
              "IPY_MODEL_87e81f1e7eb44f12bba22b678adcdafd",
              "IPY_MODEL_8ff5d622e400486eb16c656d6e741127",
              "IPY_MODEL_f2c2d5c1e1e94456b587e324f93fdd0c"
            ],
            "layout": "IPY_MODEL_05abbf6617524687b69bae28473a5f93"
          }
        },
        "87e81f1e7eb44f12bba22b678adcdafd": {
          "model_module": "@jupyter-widgets/controls",
          "model_name": "HTMLModel",
          "model_module_version": "1.5.0",
          "state": {
            "_dom_classes": [],
            "_model_module": "@jupyter-widgets/controls",
            "_model_module_version": "1.5.0",
            "_model_name": "HTMLModel",
            "_view_count": null,
            "_view_module": "@jupyter-widgets/controls",
            "_view_module_version": "1.5.0",
            "_view_name": "HTMLView",
            "description": "",
            "description_tooltip": null,
            "layout": "IPY_MODEL_78cb281ec3504e37b0c99b2db65c1565",
            "placeholder": "​",
            "style": "IPY_MODEL_b7c25bdab99a425994241ba6b6274040",
            "value": "special_tokens_map.json: 100%"
          }
        },
        "8ff5d622e400486eb16c656d6e741127": {
          "model_module": "@jupyter-widgets/controls",
          "model_name": "FloatProgressModel",
          "model_module_version": "1.5.0",
          "state": {
            "_dom_classes": [],
            "_model_module": "@jupyter-widgets/controls",
            "_model_module_version": "1.5.0",
            "_model_name": "FloatProgressModel",
            "_view_count": null,
            "_view_module": "@jupyter-widgets/controls",
            "_view_module_version": "1.5.0",
            "_view_name": "ProgressView",
            "bar_style": "success",
            "description": "",
            "description_tooltip": null,
            "layout": "IPY_MODEL_24f02c12243b46bba4d5aeb5ac890780",
            "max": 85,
            "min": 0,
            "orientation": "horizontal",
            "style": "IPY_MODEL_942262a9367a4bbead92f4988135eeb4",
            "value": 85
          }
        },
        "f2c2d5c1e1e94456b587e324f93fdd0c": {
          "model_module": "@jupyter-widgets/controls",
          "model_name": "HTMLModel",
          "model_module_version": "1.5.0",
          "state": {
            "_dom_classes": [],
            "_model_module": "@jupyter-widgets/controls",
            "_model_module_version": "1.5.0",
            "_model_name": "HTMLModel",
            "_view_count": null,
            "_view_module": "@jupyter-widgets/controls",
            "_view_module_version": "1.5.0",
            "_view_name": "HTMLView",
            "description": "",
            "description_tooltip": null,
            "layout": "IPY_MODEL_93e902582b274fbcaaca413d5fcd5aa3",
            "placeholder": "​",
            "style": "IPY_MODEL_37b9fa1453384430a1e342f0de0e18c6",
            "value": " 85.0/85.0 [00:00&lt;00:00, 5.14kB/s]"
          }
        },
        "05abbf6617524687b69bae28473a5f93": {
          "model_module": "@jupyter-widgets/base",
          "model_name": "LayoutModel",
          "model_module_version": "1.2.0",
          "state": {
            "_model_module": "@jupyter-widgets/base",
            "_model_module_version": "1.2.0",
            "_model_name": "LayoutModel",
            "_view_count": null,
            "_view_module": "@jupyter-widgets/base",
            "_view_module_version": "1.2.0",
            "_view_name": "LayoutView",
            "align_content": null,
            "align_items": null,
            "align_self": null,
            "border": null,
            "bottom": null,
            "display": null,
            "flex": null,
            "flex_flow": null,
            "grid_area": null,
            "grid_auto_columns": null,
            "grid_auto_flow": null,
            "grid_auto_rows": null,
            "grid_column": null,
            "grid_gap": null,
            "grid_row": null,
            "grid_template_areas": null,
            "grid_template_columns": null,
            "grid_template_rows": null,
            "height": null,
            "justify_content": null,
            "justify_items": null,
            "left": null,
            "margin": null,
            "max_height": null,
            "max_width": null,
            "min_height": null,
            "min_width": null,
            "object_fit": null,
            "object_position": null,
            "order": null,
            "overflow": null,
            "overflow_x": null,
            "overflow_y": null,
            "padding": null,
            "right": null,
            "top": null,
            "visibility": null,
            "width": null
          }
        },
        "78cb281ec3504e37b0c99b2db65c1565": {
          "model_module": "@jupyter-widgets/base",
          "model_name": "LayoutModel",
          "model_module_version": "1.2.0",
          "state": {
            "_model_module": "@jupyter-widgets/base",
            "_model_module_version": "1.2.0",
            "_model_name": "LayoutModel",
            "_view_count": null,
            "_view_module": "@jupyter-widgets/base",
            "_view_module_version": "1.2.0",
            "_view_name": "LayoutView",
            "align_content": null,
            "align_items": null,
            "align_self": null,
            "border": null,
            "bottom": null,
            "display": null,
            "flex": null,
            "flex_flow": null,
            "grid_area": null,
            "grid_auto_columns": null,
            "grid_auto_flow": null,
            "grid_auto_rows": null,
            "grid_column": null,
            "grid_gap": null,
            "grid_row": null,
            "grid_template_areas": null,
            "grid_template_columns": null,
            "grid_template_rows": null,
            "height": null,
            "justify_content": null,
            "justify_items": null,
            "left": null,
            "margin": null,
            "max_height": null,
            "max_width": null,
            "min_height": null,
            "min_width": null,
            "object_fit": null,
            "object_position": null,
            "order": null,
            "overflow": null,
            "overflow_x": null,
            "overflow_y": null,
            "padding": null,
            "right": null,
            "top": null,
            "visibility": null,
            "width": null
          }
        },
        "b7c25bdab99a425994241ba6b6274040": {
          "model_module": "@jupyter-widgets/controls",
          "model_name": "DescriptionStyleModel",
          "model_module_version": "1.5.0",
          "state": {
            "_model_module": "@jupyter-widgets/controls",
            "_model_module_version": "1.5.0",
            "_model_name": "DescriptionStyleModel",
            "_view_count": null,
            "_view_module": "@jupyter-widgets/base",
            "_view_module_version": "1.2.0",
            "_view_name": "StyleView",
            "description_width": ""
          }
        },
        "24f02c12243b46bba4d5aeb5ac890780": {
          "model_module": "@jupyter-widgets/base",
          "model_name": "LayoutModel",
          "model_module_version": "1.2.0",
          "state": {
            "_model_module": "@jupyter-widgets/base",
            "_model_module_version": "1.2.0",
            "_model_name": "LayoutModel",
            "_view_count": null,
            "_view_module": "@jupyter-widgets/base",
            "_view_module_version": "1.2.0",
            "_view_name": "LayoutView",
            "align_content": null,
            "align_items": null,
            "align_self": null,
            "border": null,
            "bottom": null,
            "display": null,
            "flex": null,
            "flex_flow": null,
            "grid_area": null,
            "grid_auto_columns": null,
            "grid_auto_flow": null,
            "grid_auto_rows": null,
            "grid_column": null,
            "grid_gap": null,
            "grid_row": null,
            "grid_template_areas": null,
            "grid_template_columns": null,
            "grid_template_rows": null,
            "height": null,
            "justify_content": null,
            "justify_items": null,
            "left": null,
            "margin": null,
            "max_height": null,
            "max_width": null,
            "min_height": null,
            "min_width": null,
            "object_fit": null,
            "object_position": null,
            "order": null,
            "overflow": null,
            "overflow_x": null,
            "overflow_y": null,
            "padding": null,
            "right": null,
            "top": null,
            "visibility": null,
            "width": null
          }
        },
        "942262a9367a4bbead92f4988135eeb4": {
          "model_module": "@jupyter-widgets/controls",
          "model_name": "ProgressStyleModel",
          "model_module_version": "1.5.0",
          "state": {
            "_model_module": "@jupyter-widgets/controls",
            "_model_module_version": "1.5.0",
            "_model_name": "ProgressStyleModel",
            "_view_count": null,
            "_view_module": "@jupyter-widgets/base",
            "_view_module_version": "1.2.0",
            "_view_name": "StyleView",
            "bar_color": null,
            "description_width": ""
          }
        },
        "93e902582b274fbcaaca413d5fcd5aa3": {
          "model_module": "@jupyter-widgets/base",
          "model_name": "LayoutModel",
          "model_module_version": "1.2.0",
          "state": {
            "_model_module": "@jupyter-widgets/base",
            "_model_module_version": "1.2.0",
            "_model_name": "LayoutModel",
            "_view_count": null,
            "_view_module": "@jupyter-widgets/base",
            "_view_module_version": "1.2.0",
            "_view_name": "LayoutView",
            "align_content": null,
            "align_items": null,
            "align_self": null,
            "border": null,
            "bottom": null,
            "display": null,
            "flex": null,
            "flex_flow": null,
            "grid_area": null,
            "grid_auto_columns": null,
            "grid_auto_flow": null,
            "grid_auto_rows": null,
            "grid_column": null,
            "grid_gap": null,
            "grid_row": null,
            "grid_template_areas": null,
            "grid_template_columns": null,
            "grid_template_rows": null,
            "height": null,
            "justify_content": null,
            "justify_items": null,
            "left": null,
            "margin": null,
            "max_height": null,
            "max_width": null,
            "min_height": null,
            "min_width": null,
            "object_fit": null,
            "object_position": null,
            "order": null,
            "overflow": null,
            "overflow_x": null,
            "overflow_y": null,
            "padding": null,
            "right": null,
            "top": null,
            "visibility": null,
            "width": null
          }
        },
        "37b9fa1453384430a1e342f0de0e18c6": {
          "model_module": "@jupyter-widgets/controls",
          "model_name": "DescriptionStyleModel",
          "model_module_version": "1.5.0",
          "state": {
            "_model_module": "@jupyter-widgets/controls",
            "_model_module_version": "1.5.0",
            "_model_name": "DescriptionStyleModel",
            "_view_count": null,
            "_view_module": "@jupyter-widgets/base",
            "_view_module_version": "1.2.0",
            "_view_name": "StyleView",
            "description_width": ""
          }
        },
        "2eaf0e43b73243e6a04e3784773837aa": {
          "model_module": "@jupyter-widgets/controls",
          "model_name": "HBoxModel",
          "model_module_version": "1.5.0",
          "state": {
            "_dom_classes": [],
            "_model_module": "@jupyter-widgets/controls",
            "_model_module_version": "1.5.0",
            "_model_name": "HBoxModel",
            "_view_count": null,
            "_view_module": "@jupyter-widgets/controls",
            "_view_module_version": "1.5.0",
            "_view_name": "HBoxView",
            "box_style": "",
            "children": [
              "IPY_MODEL_0d8210626beb442eaee6a1342df3ba5c",
              "IPY_MODEL_2fb20bc18e274cc28d915ced5ac9ba58",
              "IPY_MODEL_1e4a144087614393859c1ae20370f7be"
            ],
            "layout": "IPY_MODEL_6bb39a16475f44efab07ddd955034fc5"
          }
        },
        "0d8210626beb442eaee6a1342df3ba5c": {
          "model_module": "@jupyter-widgets/controls",
          "model_name": "HTMLModel",
          "model_module_version": "1.5.0",
          "state": {
            "_dom_classes": [],
            "_model_module": "@jupyter-widgets/controls",
            "_model_module_version": "1.5.0",
            "_model_name": "HTMLModel",
            "_view_count": null,
            "_view_module": "@jupyter-widgets/controls",
            "_view_module_version": "1.5.0",
            "_view_name": "HTMLView",
            "description": "",
            "description_tooltip": null,
            "layout": "IPY_MODEL_f626ce12258e4ad895cff6de29eb6c9d",
            "placeholder": "​",
            "style": "IPY_MODEL_3a885f7811e440ae8b3d5a20c74d1442",
            "value": "config.json: 100%"
          }
        },
        "2fb20bc18e274cc28d915ced5ac9ba58": {
          "model_module": "@jupyter-widgets/controls",
          "model_name": "FloatProgressModel",
          "model_module_version": "1.5.0",
          "state": {
            "_dom_classes": [],
            "_model_module": "@jupyter-widgets/controls",
            "_model_module_version": "1.5.0",
            "_model_name": "FloatProgressModel",
            "_view_count": null,
            "_view_module": "@jupyter-widgets/controls",
            "_view_module_version": "1.5.0",
            "_view_name": "ProgressView",
            "bar_style": "success",
            "description": "",
            "description_tooltip": null,
            "layout": "IPY_MODEL_02a536c0df234fb494700fe0287300ab",
            "max": 1596,
            "min": 0,
            "orientation": "horizontal",
            "style": "IPY_MODEL_7163b5cf828c4bb1b21a8a12775c591a",
            "value": 1596
          }
        },
        "1e4a144087614393859c1ae20370f7be": {
          "model_module": "@jupyter-widgets/controls",
          "model_name": "HTMLModel",
          "model_module_version": "1.5.0",
          "state": {
            "_dom_classes": [],
            "_model_module": "@jupyter-widgets/controls",
            "_model_module_version": "1.5.0",
            "_model_name": "HTMLModel",
            "_view_count": null,
            "_view_module": "@jupyter-widgets/controls",
            "_view_module_version": "1.5.0",
            "_view_name": "HTMLView",
            "description": "",
            "description_tooltip": null,
            "layout": "IPY_MODEL_c87796a40b814d40b2133bf225c8ab41",
            "placeholder": "​",
            "style": "IPY_MODEL_38ebf60bca26475681eed5e93547ed39",
            "value": " 1.60k/1.60k [00:00&lt;00:00, 92.7kB/s]"
          }
        },
        "6bb39a16475f44efab07ddd955034fc5": {
          "model_module": "@jupyter-widgets/base",
          "model_name": "LayoutModel",
          "model_module_version": "1.2.0",
          "state": {
            "_model_module": "@jupyter-widgets/base",
            "_model_module_version": "1.2.0",
            "_model_name": "LayoutModel",
            "_view_count": null,
            "_view_module": "@jupyter-widgets/base",
            "_view_module_version": "1.2.0",
            "_view_name": "LayoutView",
            "align_content": null,
            "align_items": null,
            "align_self": null,
            "border": null,
            "bottom": null,
            "display": null,
            "flex": null,
            "flex_flow": null,
            "grid_area": null,
            "grid_auto_columns": null,
            "grid_auto_flow": null,
            "grid_auto_rows": null,
            "grid_column": null,
            "grid_gap": null,
            "grid_row": null,
            "grid_template_areas": null,
            "grid_template_columns": null,
            "grid_template_rows": null,
            "height": null,
            "justify_content": null,
            "justify_items": null,
            "left": null,
            "margin": null,
            "max_height": null,
            "max_width": null,
            "min_height": null,
            "min_width": null,
            "object_fit": null,
            "object_position": null,
            "order": null,
            "overflow": null,
            "overflow_x": null,
            "overflow_y": null,
            "padding": null,
            "right": null,
            "top": null,
            "visibility": null,
            "width": null
          }
        },
        "f626ce12258e4ad895cff6de29eb6c9d": {
          "model_module": "@jupyter-widgets/base",
          "model_name": "LayoutModel",
          "model_module_version": "1.2.0",
          "state": {
            "_model_module": "@jupyter-widgets/base",
            "_model_module_version": "1.2.0",
            "_model_name": "LayoutModel",
            "_view_count": null,
            "_view_module": "@jupyter-widgets/base",
            "_view_module_version": "1.2.0",
            "_view_name": "LayoutView",
            "align_content": null,
            "align_items": null,
            "align_self": null,
            "border": null,
            "bottom": null,
            "display": null,
            "flex": null,
            "flex_flow": null,
            "grid_area": null,
            "grid_auto_columns": null,
            "grid_auto_flow": null,
            "grid_auto_rows": null,
            "grid_column": null,
            "grid_gap": null,
            "grid_row": null,
            "grid_template_areas": null,
            "grid_template_columns": null,
            "grid_template_rows": null,
            "height": null,
            "justify_content": null,
            "justify_items": null,
            "left": null,
            "margin": null,
            "max_height": null,
            "max_width": null,
            "min_height": null,
            "min_width": null,
            "object_fit": null,
            "object_position": null,
            "order": null,
            "overflow": null,
            "overflow_x": null,
            "overflow_y": null,
            "padding": null,
            "right": null,
            "top": null,
            "visibility": null,
            "width": null
          }
        },
        "3a885f7811e440ae8b3d5a20c74d1442": {
          "model_module": "@jupyter-widgets/controls",
          "model_name": "DescriptionStyleModel",
          "model_module_version": "1.5.0",
          "state": {
            "_model_module": "@jupyter-widgets/controls",
            "_model_module_version": "1.5.0",
            "_model_name": "DescriptionStyleModel",
            "_view_count": null,
            "_view_module": "@jupyter-widgets/base",
            "_view_module_version": "1.2.0",
            "_view_name": "StyleView",
            "description_width": ""
          }
        },
        "02a536c0df234fb494700fe0287300ab": {
          "model_module": "@jupyter-widgets/base",
          "model_name": "LayoutModel",
          "model_module_version": "1.2.0",
          "state": {
            "_model_module": "@jupyter-widgets/base",
            "_model_module_version": "1.2.0",
            "_model_name": "LayoutModel",
            "_view_count": null,
            "_view_module": "@jupyter-widgets/base",
            "_view_module_version": "1.2.0",
            "_view_name": "LayoutView",
            "align_content": null,
            "align_items": null,
            "align_self": null,
            "border": null,
            "bottom": null,
            "display": null,
            "flex": null,
            "flex_flow": null,
            "grid_area": null,
            "grid_auto_columns": null,
            "grid_auto_flow": null,
            "grid_auto_rows": null,
            "grid_column": null,
            "grid_gap": null,
            "grid_row": null,
            "grid_template_areas": null,
            "grid_template_columns": null,
            "grid_template_rows": null,
            "height": null,
            "justify_content": null,
            "justify_items": null,
            "left": null,
            "margin": null,
            "max_height": null,
            "max_width": null,
            "min_height": null,
            "min_width": null,
            "object_fit": null,
            "object_position": null,
            "order": null,
            "overflow": null,
            "overflow_x": null,
            "overflow_y": null,
            "padding": null,
            "right": null,
            "top": null,
            "visibility": null,
            "width": null
          }
        },
        "7163b5cf828c4bb1b21a8a12775c591a": {
          "model_module": "@jupyter-widgets/controls",
          "model_name": "ProgressStyleModel",
          "model_module_version": "1.5.0",
          "state": {
            "_model_module": "@jupyter-widgets/controls",
            "_model_module_version": "1.5.0",
            "_model_name": "ProgressStyleModel",
            "_view_count": null,
            "_view_module": "@jupyter-widgets/base",
            "_view_module_version": "1.2.0",
            "_view_name": "StyleView",
            "bar_color": null,
            "description_width": ""
          }
        },
        "c87796a40b814d40b2133bf225c8ab41": {
          "model_module": "@jupyter-widgets/base",
          "model_name": "LayoutModel",
          "model_module_version": "1.2.0",
          "state": {
            "_model_module": "@jupyter-widgets/base",
            "_model_module_version": "1.2.0",
            "_model_name": "LayoutModel",
            "_view_count": null,
            "_view_module": "@jupyter-widgets/base",
            "_view_module_version": "1.2.0",
            "_view_name": "LayoutView",
            "align_content": null,
            "align_items": null,
            "align_self": null,
            "border": null,
            "bottom": null,
            "display": null,
            "flex": null,
            "flex_flow": null,
            "grid_area": null,
            "grid_auto_columns": null,
            "grid_auto_flow": null,
            "grid_auto_rows": null,
            "grid_column": null,
            "grid_gap": null,
            "grid_row": null,
            "grid_template_areas": null,
            "grid_template_columns": null,
            "grid_template_rows": null,
            "height": null,
            "justify_content": null,
            "justify_items": null,
            "left": null,
            "margin": null,
            "max_height": null,
            "max_width": null,
            "min_height": null,
            "min_width": null,
            "object_fit": null,
            "object_position": null,
            "order": null,
            "overflow": null,
            "overflow_x": null,
            "overflow_y": null,
            "padding": null,
            "right": null,
            "top": null,
            "visibility": null,
            "width": null
          }
        },
        "38ebf60bca26475681eed5e93547ed39": {
          "model_module": "@jupyter-widgets/controls",
          "model_name": "DescriptionStyleModel",
          "model_module_version": "1.5.0",
          "state": {
            "_model_module": "@jupyter-widgets/controls",
            "_model_module_version": "1.5.0",
            "_model_name": "DescriptionStyleModel",
            "_view_count": null,
            "_view_module": "@jupyter-widgets/base",
            "_view_module_version": "1.2.0",
            "_view_name": "StyleView",
            "description_width": ""
          }
        },
        "98efa007c4214ff39aca2741f4698a44": {
          "model_module": "@jupyter-widgets/controls",
          "model_name": "HBoxModel",
          "model_module_version": "1.5.0",
          "state": {
            "_dom_classes": [],
            "_model_module": "@jupyter-widgets/controls",
            "_model_module_version": "1.5.0",
            "_model_name": "HBoxModel",
            "_view_count": null,
            "_view_module": "@jupyter-widgets/controls",
            "_view_module_version": "1.5.0",
            "_view_name": "HBoxView",
            "box_style": "",
            "children": [
              "IPY_MODEL_dae5052bd97e402b85681738cf7144e6",
              "IPY_MODEL_38f14f240c944972a8ca4a6a2ef2c422",
              "IPY_MODEL_28a9e10125b54154a9dd29b62f8993f2"
            ],
            "layout": "IPY_MODEL_6bfdfeb956684629a243beb51d7fb840"
          }
        },
        "dae5052bd97e402b85681738cf7144e6": {
          "model_module": "@jupyter-widgets/controls",
          "model_name": "HTMLModel",
          "model_module_version": "1.5.0",
          "state": {
            "_dom_classes": [],
            "_model_module": "@jupyter-widgets/controls",
            "_model_module_version": "1.5.0",
            "_model_name": "HTMLModel",
            "_view_count": null,
            "_view_module": "@jupyter-widgets/controls",
            "_view_module_version": "1.5.0",
            "_view_name": "HTMLView",
            "description": "",
            "description_tooltip": null,
            "layout": "IPY_MODEL_75ebe98c2de949f1aebd1a2b5dd1b08c",
            "placeholder": "​",
            "style": "IPY_MODEL_fff0b42e24fb4519bed18eb19cf4a9f9",
            "value": "model.safetensors: 100%"
          }
        },
        "38f14f240c944972a8ca4a6a2ef2c422": {
          "model_module": "@jupyter-widgets/controls",
          "model_name": "FloatProgressModel",
          "model_module_version": "1.5.0",
          "state": {
            "_dom_classes": [],
            "_model_module": "@jupyter-widgets/controls",
            "_model_module_version": "1.5.0",
            "_model_name": "FloatProgressModel",
            "_view_count": null,
            "_view_module": "@jupyter-widgets/controls",
            "_view_module_version": "1.5.0",
            "_view_name": "ProgressView",
            "bar_style": "success",
            "description": "",
            "description_tooltip": null,
            "layout": "IPY_MODEL_93df1c07726d4434879250f3f0e094dd",
            "max": 377607901,
            "min": 0,
            "orientation": "horizontal",
            "style": "IPY_MODEL_131e7740872f467380739d7cb11aea45",
            "value": 377607901
          }
        },
        "28a9e10125b54154a9dd29b62f8993f2": {
          "model_module": "@jupyter-widgets/controls",
          "model_name": "HTMLModel",
          "model_module_version": "1.5.0",
          "state": {
            "_dom_classes": [],
            "_model_module": "@jupyter-widgets/controls",
            "_model_module_version": "1.5.0",
            "_model_name": "HTMLModel",
            "_view_count": null,
            "_view_module": "@jupyter-widgets/controls",
            "_view_module_version": "1.5.0",
            "_view_name": "HTMLView",
            "description": "",
            "description_tooltip": null,
            "layout": "IPY_MODEL_bc990820957840248ce15cac355e7917",
            "placeholder": "​",
            "style": "IPY_MODEL_0190d3ca413f4dc5a8644bec88f27975",
            "value": " 378M/378M [00:01&lt;00:00, 249MB/s]"
          }
        },
        "6bfdfeb956684629a243beb51d7fb840": {
          "model_module": "@jupyter-widgets/base",
          "model_name": "LayoutModel",
          "model_module_version": "1.2.0",
          "state": {
            "_model_module": "@jupyter-widgets/base",
            "_model_module_version": "1.2.0",
            "_model_name": "LayoutModel",
            "_view_count": null,
            "_view_module": "@jupyter-widgets/base",
            "_view_module_version": "1.2.0",
            "_view_name": "LayoutView",
            "align_content": null,
            "align_items": null,
            "align_self": null,
            "border": null,
            "bottom": null,
            "display": null,
            "flex": null,
            "flex_flow": null,
            "grid_area": null,
            "grid_auto_columns": null,
            "grid_auto_flow": null,
            "grid_auto_rows": null,
            "grid_column": null,
            "grid_gap": null,
            "grid_row": null,
            "grid_template_areas": null,
            "grid_template_columns": null,
            "grid_template_rows": null,
            "height": null,
            "justify_content": null,
            "justify_items": null,
            "left": null,
            "margin": null,
            "max_height": null,
            "max_width": null,
            "min_height": null,
            "min_width": null,
            "object_fit": null,
            "object_position": null,
            "order": null,
            "overflow": null,
            "overflow_x": null,
            "overflow_y": null,
            "padding": null,
            "right": null,
            "top": null,
            "visibility": null,
            "width": null
          }
        },
        "75ebe98c2de949f1aebd1a2b5dd1b08c": {
          "model_module": "@jupyter-widgets/base",
          "model_name": "LayoutModel",
          "model_module_version": "1.2.0",
          "state": {
            "_model_module": "@jupyter-widgets/base",
            "_model_module_version": "1.2.0",
            "_model_name": "LayoutModel",
            "_view_count": null,
            "_view_module": "@jupyter-widgets/base",
            "_view_module_version": "1.2.0",
            "_view_name": "LayoutView",
            "align_content": null,
            "align_items": null,
            "align_self": null,
            "border": null,
            "bottom": null,
            "display": null,
            "flex": null,
            "flex_flow": null,
            "grid_area": null,
            "grid_auto_columns": null,
            "grid_auto_flow": null,
            "grid_auto_rows": null,
            "grid_column": null,
            "grid_gap": null,
            "grid_row": null,
            "grid_template_areas": null,
            "grid_template_columns": null,
            "grid_template_rows": null,
            "height": null,
            "justify_content": null,
            "justify_items": null,
            "left": null,
            "margin": null,
            "max_height": null,
            "max_width": null,
            "min_height": null,
            "min_width": null,
            "object_fit": null,
            "object_position": null,
            "order": null,
            "overflow": null,
            "overflow_x": null,
            "overflow_y": null,
            "padding": null,
            "right": null,
            "top": null,
            "visibility": null,
            "width": null
          }
        },
        "fff0b42e24fb4519bed18eb19cf4a9f9": {
          "model_module": "@jupyter-widgets/controls",
          "model_name": "DescriptionStyleModel",
          "model_module_version": "1.5.0",
          "state": {
            "_model_module": "@jupyter-widgets/controls",
            "_model_module_version": "1.5.0",
            "_model_name": "DescriptionStyleModel",
            "_view_count": null,
            "_view_module": "@jupyter-widgets/base",
            "_view_module_version": "1.2.0",
            "_view_name": "StyleView",
            "description_width": ""
          }
        },
        "93df1c07726d4434879250f3f0e094dd": {
          "model_module": "@jupyter-widgets/base",
          "model_name": "LayoutModel",
          "model_module_version": "1.2.0",
          "state": {
            "_model_module": "@jupyter-widgets/base",
            "_model_module_version": "1.2.0",
            "_model_name": "LayoutModel",
            "_view_count": null,
            "_view_module": "@jupyter-widgets/base",
            "_view_module_version": "1.2.0",
            "_view_name": "LayoutView",
            "align_content": null,
            "align_items": null,
            "align_self": null,
            "border": null,
            "bottom": null,
            "display": null,
            "flex": null,
            "flex_flow": null,
            "grid_area": null,
            "grid_auto_columns": null,
            "grid_auto_flow": null,
            "grid_auto_rows": null,
            "grid_column": null,
            "grid_gap": null,
            "grid_row": null,
            "grid_template_areas": null,
            "grid_template_columns": null,
            "grid_template_rows": null,
            "height": null,
            "justify_content": null,
            "justify_items": null,
            "left": null,
            "margin": null,
            "max_height": null,
            "max_width": null,
            "min_height": null,
            "min_width": null,
            "object_fit": null,
            "object_position": null,
            "order": null,
            "overflow": null,
            "overflow_x": null,
            "overflow_y": null,
            "padding": null,
            "right": null,
            "top": null,
            "visibility": null,
            "width": null
          }
        },
        "131e7740872f467380739d7cb11aea45": {
          "model_module": "@jupyter-widgets/controls",
          "model_name": "ProgressStyleModel",
          "model_module_version": "1.5.0",
          "state": {
            "_model_module": "@jupyter-widgets/controls",
            "_model_module_version": "1.5.0",
            "_model_name": "ProgressStyleModel",
            "_view_count": null,
            "_view_module": "@jupyter-widgets/base",
            "_view_module_version": "1.2.0",
            "_view_name": "StyleView",
            "bar_color": null,
            "description_width": ""
          }
        },
        "bc990820957840248ce15cac355e7917": {
          "model_module": "@jupyter-widgets/base",
          "model_name": "LayoutModel",
          "model_module_version": "1.2.0",
          "state": {
            "_model_module": "@jupyter-widgets/base",
            "_model_module_version": "1.2.0",
            "_model_name": "LayoutModel",
            "_view_count": null,
            "_view_module": "@jupyter-widgets/base",
            "_view_module_version": "1.2.0",
            "_view_name": "LayoutView",
            "align_content": null,
            "align_items": null,
            "align_self": null,
            "border": null,
            "bottom": null,
            "display": null,
            "flex": null,
            "flex_flow": null,
            "grid_area": null,
            "grid_auto_columns": null,
            "grid_auto_flow": null,
            "grid_auto_rows": null,
            "grid_column": null,
            "grid_gap": null,
            "grid_row": null,
            "grid_template_areas": null,
            "grid_template_columns": null,
            "grid_template_rows": null,
            "height": null,
            "justify_content": null,
            "justify_items": null,
            "left": null,
            "margin": null,
            "max_height": null,
            "max_width": null,
            "min_height": null,
            "min_width": null,
            "object_fit": null,
            "object_position": null,
            "order": null,
            "overflow": null,
            "overflow_x": null,
            "overflow_y": null,
            "padding": null,
            "right": null,
            "top": null,
            "visibility": null,
            "width": null
          }
        },
        "0190d3ca413f4dc5a8644bec88f27975": {
          "model_module": "@jupyter-widgets/controls",
          "model_name": "DescriptionStyleModel",
          "model_module_version": "1.5.0",
          "state": {
            "_model_module": "@jupyter-widgets/controls",
            "_model_module_version": "1.5.0",
            "_model_name": "DescriptionStyleModel",
            "_view_count": null,
            "_view_module": "@jupyter-widgets/base",
            "_view_module_version": "1.2.0",
            "_view_name": "StyleView",
            "description_width": ""
          }
        }
      }
    }
  },
  "cells": [
    {
      "cell_type": "markdown",
      "metadata": {
        "id": "view-in-github",
        "colab_type": "text"
      },
      "source": [
        "<a href=\"https://colab.research.google.com/github/YUKTHI-PRABHU/Hugging-face/blob/main/Hugging_Face.ipynb\" target=\"_parent\"><img src=\"https://colab.research.google.com/assets/colab-badge.svg\" alt=\"Open In Colab\"/></a>"
      ]
    },
    {
      "cell_type": "code",
      "execution_count": null,
      "metadata": {
        "id": "NA4XzgLS0Di0",
        "colab": {
          "base_uri": "https://localhost:8080/"
        },
        "outputId": "9f061e84-3ab4-42ad-c00b-14500e0537f2"
      },
      "outputs": [
        {
          "output_type": "stream",
          "name": "stdout",
          "text": [
            "Requirement already satisfied: transformers in /usr/local/lib/python3.10/dist-packages (4.47.1)\n",
            "Requirement already satisfied: filelock in /usr/local/lib/python3.10/dist-packages (from transformers) (3.16.1)\n",
            "Requirement already satisfied: huggingface-hub<1.0,>=0.24.0 in /usr/local/lib/python3.10/dist-packages (from transformers) (0.27.0)\n",
            "Requirement already satisfied: numpy>=1.17 in /usr/local/lib/python3.10/dist-packages (from transformers) (1.26.4)\n",
            "Requirement already satisfied: packaging>=20.0 in /usr/local/lib/python3.10/dist-packages (from transformers) (24.2)\n",
            "Requirement already satisfied: pyyaml>=5.1 in /usr/local/lib/python3.10/dist-packages (from transformers) (6.0.2)\n",
            "Requirement already satisfied: regex!=2019.12.17 in /usr/local/lib/python3.10/dist-packages (from transformers) (2024.11.6)\n",
            "Requirement already satisfied: requests in /usr/local/lib/python3.10/dist-packages (from transformers) (2.32.3)\n",
            "Requirement already satisfied: tokenizers<0.22,>=0.21 in /usr/local/lib/python3.10/dist-packages (from transformers) (0.21.0)\n",
            "Requirement already satisfied: safetensors>=0.4.1 in /usr/local/lib/python3.10/dist-packages (from transformers) (0.4.5)\n",
            "Requirement already satisfied: tqdm>=4.27 in /usr/local/lib/python3.10/dist-packages (from transformers) (4.67.1)\n",
            "Requirement already satisfied: fsspec>=2023.5.0 in /usr/local/lib/python3.10/dist-packages (from huggingface-hub<1.0,>=0.24.0->transformers) (2024.10.0)\n",
            "Requirement already satisfied: typing-extensions>=3.7.4.3 in /usr/local/lib/python3.10/dist-packages (from huggingface-hub<1.0,>=0.24.0->transformers) (4.12.2)\n",
            "Requirement already satisfied: charset-normalizer<4,>=2 in /usr/local/lib/python3.10/dist-packages (from requests->transformers) (3.4.0)\n",
            "Requirement already satisfied: idna<4,>=2.5 in /usr/local/lib/python3.10/dist-packages (from requests->transformers) (3.10)\n",
            "Requirement already satisfied: urllib3<3,>=1.21.1 in /usr/local/lib/python3.10/dist-packages (from requests->transformers) (2.2.3)\n",
            "Requirement already satisfied: certifi>=2017.4.17 in /usr/local/lib/python3.10/dist-packages (from requests->transformers) (2024.12.14)\n"
          ]
        }
      ],
      "source": [
        "pip install transformers\n"
      ]
    },
    {
      "cell_type": "code",
      "source": [
        "from transformers import pipeline"
      ],
      "metadata": {
        "id": "iIMk624Cfh8A"
      },
      "execution_count": null,
      "outputs": []
    },
    {
      "cell_type": "code",
      "source": [
        "import transformers\n",
        "print(transformers.__version__)"
      ],
      "metadata": {
        "colab": {
          "base_uri": "https://localhost:8080/"
        },
        "id": "Darb6cBwRKCo",
        "outputId": "51b1ff32-1474-453c-8efa-506a66b197b1"
      },
      "execution_count": null,
      "outputs": [
        {
          "output_type": "stream",
          "name": "stdout",
          "text": [
            "4.47.1\n"
          ]
        }
      ]
    },
    {
      "cell_type": "code",
      "source": [
        "import librosa\n",
        "import torch\n",
        "import numpy as np\n",
        "from transformers import Wav2Vec2ForCTC, Wav2Vec2Tokenizer\n",
        "import IPython.display as display"
      ],
      "metadata": {
        "id": "Jw7JoKj1TcTO"
      },
      "execution_count": null,
      "outputs": []
    },
    {
      "cell_type": "code",
      "source": [
        "from transformers import Wav2Vec2ForCTC, Wav2Vec2Tokenizer\n",
        "tokenizer = Wav2Vec2Tokenizer.from_pretrained(\"facebook/wav2vec2-base-960h\")\n",
        "model = Wav2Vec2ForCTC.from_pretrained(\"facebook/wav2vec2-base-960h\")\n"
      ],
      "metadata": {
        "colab": {
          "base_uri": "https://localhost:8080/",
          "height": 423,
          "referenced_widgets": [
            "867846c341ff4ad584c5c11e1e2f5d91",
            "9662a76a8bcd4da2a2475285be575158",
            "e634324c0e1540cb9eb8598c37dd0e93",
            "b9796160f6a846a4aed943fe52b3c332",
            "54ca36054d2e448cabec4f860124e161",
            "41a91de1ae3a410aa55df260f5e2ae7e",
            "cd4539acb5204e89a6dc8884ea53ec4a",
            "6b80b64d3d2f41c992b181d88f1e4191",
            "c22752e8853e44e79bc2ea271f4faffb",
            "0bfa11d0fd03490fb1321437cdeab263",
            "2afe05139bc04a4092f070a2a66106a0",
            "70679d76c0ee486a8be89e6e8d9633aa",
            "89d91874ca4947288161bd25ead05f1b",
            "4d2017e5b1c1414f8082d74ae09a71e0",
            "9f3e34761b944275bac91358fde48e9c",
            "1ccad47c41aa45679714bc3961cdd1d1",
            "65b7af0611074b24a3e7cd1a05e798d8",
            "91681f2bbb9f4ae9b3a60c25902938a0",
            "63882b57fa104ccf9f964ab741f905d2",
            "e57a8bff392c41a2a8082a0c73aa7ac0",
            "63ce6f6e071341a9a5c8b289ee9d990e",
            "3f51f042b19541c0935f6d1be5dc3483",
            "42b04738ed01493397b36bc580630368",
            "87e81f1e7eb44f12bba22b678adcdafd",
            "8ff5d622e400486eb16c656d6e741127",
            "f2c2d5c1e1e94456b587e324f93fdd0c",
            "05abbf6617524687b69bae28473a5f93",
            "78cb281ec3504e37b0c99b2db65c1565",
            "b7c25bdab99a425994241ba6b6274040",
            "24f02c12243b46bba4d5aeb5ac890780",
            "942262a9367a4bbead92f4988135eeb4",
            "93e902582b274fbcaaca413d5fcd5aa3",
            "37b9fa1453384430a1e342f0de0e18c6",
            "2eaf0e43b73243e6a04e3784773837aa",
            "0d8210626beb442eaee6a1342df3ba5c",
            "2fb20bc18e274cc28d915ced5ac9ba58",
            "1e4a144087614393859c1ae20370f7be",
            "6bb39a16475f44efab07ddd955034fc5",
            "f626ce12258e4ad895cff6de29eb6c9d",
            "3a885f7811e440ae8b3d5a20c74d1442",
            "02a536c0df234fb494700fe0287300ab",
            "7163b5cf828c4bb1b21a8a12775c591a",
            "c87796a40b814d40b2133bf225c8ab41",
            "38ebf60bca26475681eed5e93547ed39",
            "98efa007c4214ff39aca2741f4698a44",
            "dae5052bd97e402b85681738cf7144e6",
            "38f14f240c944972a8ca4a6a2ef2c422",
            "28a9e10125b54154a9dd29b62f8993f2",
            "6bfdfeb956684629a243beb51d7fb840",
            "75ebe98c2de949f1aebd1a2b5dd1b08c",
            "fff0b42e24fb4519bed18eb19cf4a9f9",
            "93df1c07726d4434879250f3f0e094dd",
            "131e7740872f467380739d7cb11aea45",
            "bc990820957840248ce15cac355e7917",
            "0190d3ca413f4dc5a8644bec88f27975"
          ]
        },
        "id": "U1L6OPSSa61i",
        "outputId": "038936e0-25c8-4316-8ded-ac18320d470a"
      },
      "execution_count": 2,
      "outputs": [
        {
          "output_type": "stream",
          "name": "stderr",
          "text": [
            "/usr/local/lib/python3.10/dist-packages/huggingface_hub/utils/_auth.py:94: UserWarning: \n",
            "The secret `HF_TOKEN` does not exist in your Colab secrets.\n",
            "To authenticate with the Hugging Face Hub, create a token in your settings tab (https://huggingface.co/settings/tokens), set it as secret in your Google Colab and restart your session.\n",
            "You will be able to reuse this secret in all of your notebooks.\n",
            "Please note that authentication is recommended but still optional to access public models or datasets.\n",
            "  warnings.warn(\n"
          ]
        },
        {
          "output_type": "display_data",
          "data": {
            "text/plain": [
              "tokenizer_config.json:   0%|          | 0.00/163 [00:00<?, ?B/s]"
            ],
            "application/vnd.jupyter.widget-view+json": {
              "version_major": 2,
              "version_minor": 0,
              "model_id": "867846c341ff4ad584c5c11e1e2f5d91"
            }
          },
          "metadata": {}
        },
        {
          "output_type": "display_data",
          "data": {
            "text/plain": [
              "vocab.json:   0%|          | 0.00/291 [00:00<?, ?B/s]"
            ],
            "application/vnd.jupyter.widget-view+json": {
              "version_major": 2,
              "version_minor": 0,
              "model_id": "70679d76c0ee486a8be89e6e8d9633aa"
            }
          },
          "metadata": {}
        },
        {
          "output_type": "display_data",
          "data": {
            "text/plain": [
              "special_tokens_map.json:   0%|          | 0.00/85.0 [00:00<?, ?B/s]"
            ],
            "application/vnd.jupyter.widget-view+json": {
              "version_major": 2,
              "version_minor": 0,
              "model_id": "42b04738ed01493397b36bc580630368"
            }
          },
          "metadata": {}
        },
        {
          "output_type": "display_data",
          "data": {
            "text/plain": [
              "config.json:   0%|          | 0.00/1.60k [00:00<?, ?B/s]"
            ],
            "application/vnd.jupyter.widget-view+json": {
              "version_major": 2,
              "version_minor": 0,
              "model_id": "2eaf0e43b73243e6a04e3784773837aa"
            }
          },
          "metadata": {}
        },
        {
          "output_type": "stream",
          "name": "stderr",
          "text": [
            "The tokenizer class you load from this checkpoint is not the same type as the class this function is called from. It may result in unexpected tokenization. \n",
            "The tokenizer class you load from this checkpoint is 'Wav2Vec2CTCTokenizer'. \n",
            "The class this function is called from is 'Wav2Vec2Tokenizer'.\n",
            "/usr/local/lib/python3.10/dist-packages/transformers/models/wav2vec2/tokenization_wav2vec2.py:720: FutureWarning: The class `Wav2Vec2Tokenizer` is deprecated and will be removed in version 5 of Transformers. Please use `Wav2Vec2Processor` or `Wav2Vec2CTCTokenizer` instead.\n",
            "  warnings.warn(\n"
          ]
        },
        {
          "output_type": "display_data",
          "data": {
            "text/plain": [
              "model.safetensors:   0%|          | 0.00/378M [00:00<?, ?B/s]"
            ],
            "application/vnd.jupyter.widget-view+json": {
              "version_major": 2,
              "version_minor": 0,
              "model_id": "98efa007c4214ff39aca2741f4698a44"
            }
          },
          "metadata": {}
        },
        {
          "output_type": "stream",
          "name": "stderr",
          "text": [
            "Some weights of Wav2Vec2ForCTC were not initialized from the model checkpoint at facebook/wav2vec2-base-960h and are newly initialized: ['wav2vec2.masked_spec_embed']\n",
            "You should probably TRAIN this model on a down-stream task to be able to use it for predictions and inference.\n"
          ]
        }
      ]
    },
    {
      "cell_type": "code",
      "source": [
        "import librosa\n",
        "audio,sampling_rate=librosa.load(\"/v.m4a\",sr=16000)"
      ],
      "metadata": {
        "id": "0ZTT8H9pbWkY"
      },
      "execution_count": 16,
      "outputs": []
    },
    {
      "cell_type": "code",
      "source": [
        "audio,sampling_rate"
      ],
      "metadata": {
        "colab": {
          "base_uri": "https://localhost:8080/"
        },
        "id": "6xEbBdvueO_J",
        "outputId": "2bf8d953-c9d7-4031-fd14-8c157024ef86"
      },
      "execution_count": 8,
      "outputs": [
        {
          "output_type": "execute_result",
          "data": {
            "text/plain": [
              "(array([ 0.        ,  0.        ,  0.        , ..., -0.00146484,\n",
              "        -0.00238037, -0.00256348], dtype=float32),\n",
              " 16000)"
            ]
          },
          "metadata": {},
          "execution_count": 8
        }
      ]
    },
    {
      "cell_type": "code",
      "source": [
        "import IPython.display as display\n",
        "display.Audio('/v.m4a',autoplay=True)"
      ],
      "metadata": {
        "colab": {
          "base_uri": "https://localhost:8080/",
          "height": 75
        },
        "id": "uuR3Gje2bzif",
        "outputId": "49ac48b4-26c4-416d-c824-20152ea556fb"
      },
      "execution_count": 17,
      "outputs": [
        {
          "output_type": "execute_result",
          "data": {
            "text/plain": [
              "<IPython.lib.display.Audio object>"
            ],
            "text/html": [
              "\n",
              "                <audio  controls=\"controls\" autoplay=\"autoplay\">\n",
              "                    <source src=\"data:audio/mp4;base64,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\" type=\"audio/mp4\" />\n",
              "                    Your browser does not support the audio element.\n",
              "                </audio>\n",
              "              "
            ]
          },
          "metadata": {},
          "execution_count": 17
        }
      ]
    },
    {
      "cell_type": "code",
      "source": [
        "input_values=tokenizer(audio,return_tensors=\"pt\").input_values\n",
        "input_values"
      ],
      "metadata": {
        "colab": {
          "base_uri": "https://localhost:8080/"
        },
        "id": "2J4aiaqTdSR4",
        "outputId": "3c733379-45c2-43ed-e272-38591ef03c3f"
      },
      "execution_count": 19,
      "outputs": [
        {
          "output_type": "execute_result",
          "data": {
            "text/plain": [
              "tensor([[-0.0006, -0.0006, -0.0006,  ..., -0.1060, -0.0928, -0.0928]])"
            ]
          },
          "metadata": {},
          "execution_count": 19
        }
      ]
    },
    {
      "cell_type": "code",
      "source": [
        "logits=model(input_values).logits\n",
        "logits"
      ],
      "metadata": {
        "colab": {
          "base_uri": "https://localhost:8080/"
        },
        "id": "Fccl2Vt7fG7P",
        "outputId": "49078ddf-b1a6-4900-8648-2fc8482d6a50"
      },
      "execution_count": 20,
      "outputs": [
        {
          "output_type": "execute_result",
          "data": {
            "text/plain": [
              "tensor([[[ 12.6616, -25.3563, -25.0662,  ...,  -5.9203,  -6.6825,  -5.9233],\n",
              "         [ 12.1512, -25.0060, -24.7518,  ...,  -5.8913,  -6.7054,  -5.7196],\n",
              "         [ 12.7140, -25.5126, -25.2205,  ...,  -6.0106,  -6.6793,  -5.9259],\n",
              "         ...,\n",
              "         [ 11.2387, -23.6001, -23.3811,  ...,  -5.8292,  -6.8418,  -4.5760],\n",
              "         [ 11.4664, -23.9538, -23.7148,  ...,  -5.8793,  -6.9094,  -4.8826],\n",
              "         [ 11.6498, -24.1867, -23.9378,  ...,  -5.9119,  -6.9466,  -5.0977]]],\n",
              "       grad_fn=<ViewBackward0>)"
            ]
          },
          "metadata": {},
          "execution_count": 20
        }
      ]
    },
    {
      "cell_type": "code",
      "source": [
        "import torch\n",
        "predictive_ids=torch.argmax(logits,dim=-1)\n",
        "predictive_ids"
      ],
      "metadata": {
        "colab": {
          "base_uri": "https://localhost:8080/"
        },
        "id": "R5adKW0qflrC",
        "outputId": "34670327-3ca6-4cbf-bedd-074b2f728549"
      },
      "execution_count": 21,
      "outputs": [
        {
          "output_type": "execute_result",
          "data": {
            "text/plain": [
              "tensor([[ 0,  0,  0,  0,  0,  0,  0,  0,  0,  0,  0,  0,  0,  0,  0,  0,  0,  0,\n",
              "          0,  0,  0,  0,  0,  0,  0,  0, 11, 11,  0,  0,  0,  0,  0,  0,  0,  0,\n",
              "          0,  0,  0,  0,  0,  0,  0,  0,  0,  0,  0,  0,  0,  0,  0,  0,  7,  0,\n",
              "          0,  0,  0,  0,  0,  0,  4,  0,  0,  0,  0,  0,  0,  0,  0,  0,  0,  0,\n",
              "          0,  0,  0,  0,  0,  7,  0,  0,  0,  0,  0,  0,  0,  0,  0,  0,  0,  0,\n",
              "          0,  0,  0,  0,  0,  0,  0,  5,  0,  0,  0,  0,  0,  0,  0,  0,  0,  4,\n",
              "          4,  0,  0,  0,  0,  0,  0,  0,  0,  0,  0,  0,  0, 11,  0,  0,  0,  0,\n",
              "          0,  8,  0,  0,  0,  0,  0, 15,  0,  0,  0,  0,  0,  0,  5,  0,  0,  0,\n",
              "          0,  0,  0,  0,  0,  0,  0,  0,  0,  0,  0,  0,  0,  0,  0,  0,  0,  0,\n",
              "          0,  0,  0,  0,  0,  0,  0,  0,  0,  0,  0,  0,  0]])"
            ]
          },
          "metadata": {},
          "execution_count": 21
        }
      ]
    },
    {
      "cell_type": "code",
      "source": [
        "transcriptions=tokenizer.batch_decode(predictive_ids)\n",
        "transcriptions"
      ],
      "metadata": {
        "colab": {
          "base_uri": "https://localhost:8080/"
        },
        "id": "TL681Sq7gM8L",
        "outputId": "6d64e837-806d-4c07-bb38-c0bbcb3e0d31"
      },
      "execution_count": 22,
      "outputs": [
        {
          "output_type": "execute_result",
          "data": {
            "text/plain": [
              "['HA AE HOLE']"
            ]
          },
          "metadata": {},
          "execution_count": 22
        }
      ]
    },
    {
      "cell_type": "code",
      "source": [],
      "metadata": {
        "id": "-8ZIYKtOhJYq"
      },
      "execution_count": null,
      "outputs": []
    }
  ]
}