{
  "nbformat": 4,
  "nbformat_minor": 0,
  "metadata": {
    "colab": {
      "provenance": [],
      "authorship_tag": "ABX9TyNEf7C9GbELi0DQi80WL4p/",
      "include_colab_link": true
    },
    "kernelspec": {
      "name": "python3",
      "display_name": "Python 3"
    },
    "language_info": {
      "name": "python"
    },
    "widgets": {
      "application/vnd.jupyter.widget-state+json": {
        "867846c341ff4ad584c5c11e1e2f5d91": {
          "model_module": "@jupyter-widgets/controls",
          "model_name": "HBoxModel",
          "model_module_version": "1.5.0",
          "state": {
            "_dom_classes": [],
            "_model_module": "@jupyter-widgets/controls",
            "_model_module_version": "1.5.0",
            "_model_name": "HBoxModel",
            "_view_count": null,
            "_view_module": "@jupyter-widgets/controls",
            "_view_module_version": "1.5.0",
            "_view_name": "HBoxView",
            "box_style": "",
            "children": [
              "IPY_MODEL_9662a76a8bcd4da2a2475285be575158",
              "IPY_MODEL_e634324c0e1540cb9eb8598c37dd0e93",
              "IPY_MODEL_b9796160f6a846a4aed943fe52b3c332"
            ],
            "layout": "IPY_MODEL_54ca36054d2e448cabec4f860124e161"
          }
        },
        "9662a76a8bcd4da2a2475285be575158": {
          "model_module": "@jupyter-widgets/controls",
          "model_name": "HTMLModel",
          "model_module_version": "1.5.0",
          "state": {
            "_dom_classes": [],
            "_model_module": "@jupyter-widgets/controls",
            "_model_module_version": "1.5.0",
            "_model_name": "HTMLModel",
            "_view_count": null,
            "_view_module": "@jupyter-widgets/controls",
            "_view_module_version": "1.5.0",
            "_view_name": "HTMLView",
            "description": "",
            "description_tooltip": null,
            "layout": "IPY_MODEL_41a91de1ae3a410aa55df260f5e2ae7e",
            "placeholder": "​",
            "style": "IPY_MODEL_cd4539acb5204e89a6dc8884ea53ec4a",
            "value": "tokenizer_config.json: 100%"
          }
        },
        "e634324c0e1540cb9eb8598c37dd0e93": {
          "model_module": "@jupyter-widgets/controls",
          "model_name": "FloatProgressModel",
          "model_module_version": "1.5.0",
          "state": {
            "_dom_classes": [],
            "_model_module": "@jupyter-widgets/controls",
            "_model_module_version": "1.5.0",
            "_model_name": "FloatProgressModel",
            "_view_count": null,
            "_view_module": "@jupyter-widgets/controls",
            "_view_module_version": "1.5.0",
            "_view_name": "ProgressView",
            "bar_style": "success",
            "description": "",
            "description_tooltip": null,
            "layout": "IPY_MODEL_6b80b64d3d2f41c992b181d88f1e4191",
            "max": 163,
            "min": 0,
            "orientation": "horizontal",
            "style": "IPY_MODEL_c22752e8853e44e79bc2ea271f4faffb",
            "value": 163
          }
        },
        "b9796160f6a846a4aed943fe52b3c332": {
          "model_module": "@jupyter-widgets/controls",
          "model_name": "HTMLModel",
          "model_module_version": "1.5.0",
          "state": {
            "_dom_classes": [],
            "_model_module": "@jupyter-widgets/controls",
            "_model_module_version": "1.5.0",
            "_model_name": "HTMLModel",
            "_view_count": null,
            "_view_module": "@jupyter-widgets/controls",
            "_view_module_version": "1.5.0",
            "_view_name": "HTMLView",
            "description": "",
            "description_tooltip": null,
            "layout": "IPY_MODEL_0bfa11d0fd03490fb1321437cdeab263",
            "placeholder": "​",
            "style": "IPY_MODEL_2afe05139bc04a4092f070a2a66106a0",
            "value": " 163/163 [00:00&lt;00:00, 8.05kB/s]"
          }
        },
        "54ca36054d2e448cabec4f860124e161": {
          "model_module": "@jupyter-widgets/base",
          "model_name": "LayoutModel",
          "model_module_version": "1.2.0",
          "state": {
            "_model_module": "@jupyter-widgets/base",
            "_model_module_version": "1.2.0",
            "_model_name": "LayoutModel",
            "_view_count": null,
            "_view_module": "@jupyter-widgets/base",
            "_view_module_version": "1.2.0",
            "_view_name": "LayoutView",
            "align_content": null,
            "align_items": null,
            "align_self": null,
            "border": null,
            "bottom": null,
            "display": null,
            "flex": null,
            "flex_flow": null,
            "grid_area": null,
            "grid_auto_columns": null,
            "grid_auto_flow": null,
            "grid_auto_rows": null,
            "grid_column": null,
            "grid_gap": null,
            "grid_row": null,
            "grid_template_areas": null,
            "grid_template_columns": null,
            "grid_template_rows": null,
            "height": null,
            "justify_content": null,
            "justify_items": null,
            "left": null,
            "margin": null,
            "max_height": null,
            "max_width": null,
            "min_height": null,
            "min_width": null,
            "object_fit": null,
            "object_position": null,
            "order": null,
            "overflow": null,
            "overflow_x": null,
            "overflow_y": null,
            "padding": null,
            "right": null,
            "top": null,
            "visibility": null,
            "width": null
          }
        },
        "41a91de1ae3a410aa55df260f5e2ae7e": {
          "model_module": "@jupyter-widgets/base",
          "model_name": "LayoutModel",
          "model_module_version": "1.2.0",
          "state": {
            "_model_module": "@jupyter-widgets/base",
            "_model_module_version": "1.2.0",
            "_model_name": "LayoutModel",
            "_view_count": null,
            "_view_module": "@jupyter-widgets/base",
            "_view_module_version": "1.2.0",
            "_view_name": "LayoutView",
            "align_content": null,
            "align_items": null,
            "align_self": null,
            "border": null,
            "bottom": null,
            "display": null,
            "flex": null,
            "flex_flow": null,
            "grid_area": null,
            "grid_auto_columns": null,
            "grid_auto_flow": null,
            "grid_auto_rows": null,
            "grid_column": null,
            "grid_gap": null,
            "grid_row": null,
            "grid_template_areas": null,
            "grid_template_columns": null,
            "grid_template_rows": null,
            "height": null,
            "justify_content": null,
            "justify_items": null,
            "left": null,
            "margin": null,
            "max_height": null,
            "max_width": null,
            "min_height": null,
            "min_width": null,
            "object_fit": null,
            "object_position": null,
            "order": null,
            "overflow": null,
            "overflow_x": null,
            "overflow_y": null,
            "padding": null,
            "right": null,
            "top": null,
            "visibility": null,
            "width": null
          }
        },
        "cd4539acb5204e89a6dc8884ea53ec4a": {
          "model_module": "@jupyter-widgets/controls",
          "model_name": "DescriptionStyleModel",
          "model_module_version": "1.5.0",
          "state": {
            "_model_module": "@jupyter-widgets/controls",
            "_model_module_version": "1.5.0",
            "_model_name": "DescriptionStyleModel",
            "_view_count": null,
            "_view_module": "@jupyter-widgets/base",
            "_view_module_version": "1.2.0",
            "_view_name": "StyleView",
            "description_width": ""
          }
        },
        "6b80b64d3d2f41c992b181d88f1e4191": {
          "model_module": "@jupyter-widgets/base",
          "model_name": "LayoutModel",
          "model_module_version": "1.2.0",
          "state": {
            "_model_module": "@jupyter-widgets/base",
            "_model_module_version": "1.2.0",
            "_model_name": "LayoutModel",
            "_view_count": null,
            "_view_module": "@jupyter-widgets/base",
            "_view_module_version": "1.2.0",
            "_view_name": "LayoutView",
            "align_content": null,
            "align_items": null,
            "align_self": null,
            "border": null,
            "bottom": null,
            "display": null,
            "flex": null,
            "flex_flow": null,
            "grid_area": null,
            "grid_auto_columns": null,
            "grid_auto_flow": null,
            "grid_auto_rows": null,
            "grid_column": null,
            "grid_gap": null,
            "grid_row": null,
            "grid_template_areas": null,
            "grid_template_columns": null,
            "grid_template_rows": null,
            "height": null,
            "justify_content": null,
            "justify_items": null,
            "left": null,
            "margin": null,
            "max_height": null,
            "max_width": null,
            "min_height": null,
            "min_width": null,
            "object_fit": null,
            "object_position": null,
            "order": null,
            "overflow": null,
            "overflow_x": null,
            "overflow_y": null,
            "padding": null,
            "right": null,
            "top": null,
            "visibility": null,
            "width": null
          }
        },
        "c22752e8853e44e79bc2ea271f4faffb": {
          "model_module": "@jupyter-widgets/controls",
          "model_name": "ProgressStyleModel",
          "model_module_version": "1.5.0",
          "state": {
            "_model_module": "@jupyter-widgets/controls",
            "_model_module_version": "1.5.0",
            "_model_name": "ProgressStyleModel",
            "_view_count": null,
            "_view_module": "@jupyter-widgets/base",
            "_view_module_version": "1.2.0",
            "_view_name": "StyleView",
            "bar_color": null,
            "description_width": ""
          }
        },
        "0bfa11d0fd03490fb1321437cdeab263": {
          "model_module": "@jupyter-widgets/base",
          "model_name": "LayoutModel",
          "model_module_version": "1.2.0",
          "state": {
            "_model_module": "@jupyter-widgets/base",
            "_model_module_version": "1.2.0",
            "_model_name": "LayoutModel",
            "_view_count": null,
            "_view_module": "@jupyter-widgets/base",
            "_view_module_version": "1.2.0",
            "_view_name": "LayoutView",
            "align_content": null,
            "align_items": null,
            "align_self": null,
            "border": null,
            "bottom": null,
            "display": null,
            "flex": null,
            "flex_flow": null,
            "grid_area": null,
            "grid_auto_columns": null,
            "grid_auto_flow": null,
            "grid_auto_rows": null,
            "grid_column": null,
            "grid_gap": null,
            "grid_row": null,
            "grid_template_areas": null,
            "grid_template_columns": null,
            "grid_template_rows": null,
            "height": null,
            "justify_content": null,
            "justify_items": null,
            "left": null,
            "margin": null,
            "max_height": null,
            "max_width": null,
            "min_height": null,
            "min_width": null,
            "object_fit": null,
            "object_position": null,
            "order": null,
            "overflow": null,
            "overflow_x": null,
            "overflow_y": null,
            "padding": null,
            "right": null,
            "top": null,
            "visibility": null,
            "width": null
          }
        },
        "2afe05139bc04a4092f070a2a66106a0": {
          "model_module": "@jupyter-widgets/controls",
          "model_name": "DescriptionStyleModel",
          "model_module_version": "1.5.0",
          "state": {
            "_model_module": "@jupyter-widgets/controls",
            "_model_module_version": "1.5.0",
            "_model_name": "DescriptionStyleModel",
            "_view_count": null,
            "_view_module": "@jupyter-widgets/base",
            "_view_module_version": "1.2.0",
            "_view_name": "StyleView",
            "description_width": ""
          }
        },
        "70679d76c0ee486a8be89e6e8d9633aa": {
          "model_module": "@jupyter-widgets/controls",
          "model_name": "HBoxModel",
          "model_module_version": "1.5.0",
          "state": {
            "_dom_classes": [],
            "_model_module": "@jupyter-widgets/controls",
            "_model_module_version": "1.5.0",
            "_model_name": "HBoxModel",
            "_view_count": null,
            "_view_module": "@jupyter-widgets/controls",
            "_view_module_version": "1.5.0",
            "_view_name": "HBoxView",
            "box_style": "",
            "children": [
              "IPY_MODEL_89d91874ca4947288161bd25ead05f1b",
              "IPY_MODEL_4d2017e5b1c1414f8082d74ae09a71e0",
              "IPY_MODEL_9f3e34761b944275bac91358fde48e9c"
            ],
            "layout": "IPY_MODEL_1ccad47c41aa45679714bc3961cdd1d1"
          }
        },
        "89d91874ca4947288161bd25ead05f1b": {
          "model_module": "@jupyter-widgets/controls",
          "model_name": "HTMLModel",
          "model_module_version": "1.5.0",
          "state": {
            "_dom_classes": [],
            "_model_module": "@jupyter-widgets/controls",
            "_model_module_version": "1.5.0",
            "_model_name": "HTMLModel",
            "_view_count": null,
            "_view_module": "@jupyter-widgets/controls",
            "_view_module_version": "1.5.0",
            "_view_name": "HTMLView",
            "description": "",
            "description_tooltip": null,
            "layout": "IPY_MODEL_65b7af0611074b24a3e7cd1a05e798d8",
            "placeholder": "​",
            "style": "IPY_MODEL_91681f2bbb9f4ae9b3a60c25902938a0",
            "value": "vocab.json: 100%"
          }
        },
        "4d2017e5b1c1414f8082d74ae09a71e0": {
          "model_module": "@jupyter-widgets/controls",
          "model_name": "FloatProgressModel",
          "model_module_version": "1.5.0",
          "state": {
            "_dom_classes": [],
            "_model_module": "@jupyter-widgets/controls",
            "_model_module_version": "1.5.0",
            "_model_name": "FloatProgressModel",
            "_view_count": null,
            "_view_module": "@jupyter-widgets/controls",
            "_view_module_version": "1.5.0",
            "_view_name": "ProgressView",
            "bar_style": "success",
            "description": "",
            "description_tooltip": null,
            "layout": "IPY_MODEL_63882b57fa104ccf9f964ab741f905d2",
            "max": 291,
            "min": 0,
            "orientation": "horizontal",
            "style": "IPY_MODEL_e57a8bff392c41a2a8082a0c73aa7ac0",
            "value": 291
          }
        },
        "9f3e34761b944275bac91358fde48e9c": {
          "model_module": "@jupyter-widgets/controls",
          "model_name": "HTMLModel",
          "model_module_version": "1.5.0",
          "state": {
            "_dom_classes": [],
            "_model_module": "@jupyter-widgets/controls",
            "_model_module_version": "1.5.0",
            "_model_name": "HTMLModel",
            "_view_count": null,
            "_view_module": "@jupyter-widgets/controls",
            "_view_module_version": "1.5.0",
            "_view_name": "HTMLView",
            "description": "",
            "description_tooltip": null,
            "layout": "IPY_MODEL_63ce6f6e071341a9a5c8b289ee9d990e",
            "placeholder": "​",
            "style": "IPY_MODEL_3f51f042b19541c0935f6d1be5dc3483",
            "value": " 291/291 [00:00&lt;00:00, 18.5kB/s]"
          }
        },
        "1ccad47c41aa45679714bc3961cdd1d1": {
          "model_module": "@jupyter-widgets/base",
          "model_name": "LayoutModel",
          "model_module_version": "1.2.0",
          "state": {
            "_model_module": "@jupyter-widgets/base",
            "_model_module_version": "1.2.0",
            "_model_name": "LayoutModel",
            "_view_count": null,
            "_view_module": "@jupyter-widgets/base",
            "_view_module_version": "1.2.0",
            "_view_name": "LayoutView",
            "align_content": null,
            "align_items": null,
            "align_self": null,
            "border": null,
            "bottom": null,
            "display": null,
            "flex": null,
            "flex_flow": null,
            "grid_area": null,
            "grid_auto_columns": null,
            "grid_auto_flow": null,
            "grid_auto_rows": null,
            "grid_column": null,
            "grid_gap": null,
            "grid_row": null,
            "grid_template_areas": null,
            "grid_template_columns": null,
            "grid_template_rows": null,
            "height": null,
            "justify_content": null,
            "justify_items": null,
            "left": null,
            "margin": null,
            "max_height": null,
            "max_width": null,
            "min_height": null,
            "min_width": null,
            "object_fit": null,
            "object_position": null,
            "order": null,
            "overflow": null,
            "overflow_x": null,
            "overflow_y": null,
            "padding": null,
            "right": null,
            "top": null,
            "visibility": null,
            "width": null
          }
        },
        "65b7af0611074b24a3e7cd1a05e798d8": {
          "model_module": "@jupyter-widgets/base",
          "model_name": "LayoutModel",
          "model_module_version": "1.2.0",
          "state": {
            "_model_module": "@jupyter-widgets/base",
            "_model_module_version": "1.2.0",
            "_model_name": "LayoutModel",
            "_view_count": null,
            "_view_module": "@jupyter-widgets/base",
            "_view_module_version": "1.2.0",
            "_view_name": "LayoutView",
            "align_content": null,
            "align_items": null,
            "align_self": null,
            "border": null,
            "bottom": null,
            "display": null,
            "flex": null,
            "flex_flow": null,
            "grid_area": null,
            "grid_auto_columns": null,
            "grid_auto_flow": null,
            "grid_auto_rows": null,
            "grid_column": null,
            "grid_gap": null,
            "grid_row": null,
            "grid_template_areas": null,
            "grid_template_columns": null,
            "grid_template_rows": null,
            "height": null,
            "justify_content": null,
            "justify_items": null,
            "left": null,
            "margin": null,
            "max_height": null,
            "max_width": null,
            "min_height": null,
            "min_width": null,
            "object_fit": null,
            "object_position": null,
            "order": null,
            "overflow": null,
            "overflow_x": null,
            "overflow_y": null,
            "padding": null,
            "right": null,
            "top": null,
            "visibility": null,
            "width": null
          }
        },
        "91681f2bbb9f4ae9b3a60c25902938a0": {
          "model_module": "@jupyter-widgets/controls",
          "model_name": "DescriptionStyleModel",
          "model_module_version": "1.5.0",
          "state": {
            "_model_module": "@jupyter-widgets/controls",
            "_model_module_version": "1.5.0",
            "_model_name": "DescriptionStyleModel",
            "_view_count": null,
            "_view_module": "@jupyter-widgets/base",
            "_view_module_version": "1.2.0",
            "_view_name": "StyleView",
            "description_width": ""
          }
        },
        "63882b57fa104ccf9f964ab741f905d2": {
          "model_module": "@jupyter-widgets/base",
          "model_name": "LayoutModel",
          "model_module_version": "1.2.0",
          "state": {
            "_model_module": "@jupyter-widgets/base",
            "_model_module_version": "1.2.0",
            "_model_name": "LayoutModel",
            "_view_count": null,
            "_view_module": "@jupyter-widgets/base",
            "_view_module_version": "1.2.0",
            "_view_name": "LayoutView",
            "align_content": null,
            "align_items": null,
            "align_self": null,
            "border": null,
            "bottom": null,
            "display": null,
            "flex": null,
            "flex_flow": null,
            "grid_area": null,
            "grid_auto_columns": null,
            "grid_auto_flow": null,
            "grid_auto_rows": null,
            "grid_column": null,
            "grid_gap": null,
            "grid_row": null,
            "grid_template_areas": null,
            "grid_template_columns": null,
            "grid_template_rows": null,
            "height": null,
            "justify_content": null,
            "justify_items": null,
            "left": null,
            "margin": null,
            "max_height": null,
            "max_width": null,
            "min_height": null,
            "min_width": null,
            "object_fit": null,
            "object_position": null,
            "order": null,
            "overflow": null,
            "overflow_x": null,
            "overflow_y": null,
            "padding": null,
            "right": null,
            "top": null,
            "visibility": null,
            "width": null
          }
        },
        "e57a8bff392c41a2a8082a0c73aa7ac0": {
          "model_module": "@jupyter-widgets/controls",
          "model_name": "ProgressStyleModel",
          "model_module_version": "1.5.0",
          "state": {
            "_model_module": "@jupyter-widgets/controls",
            "_model_module_version": "1.5.0",
            "_model_name": "ProgressStyleModel",
            "_view_count": null,
            "_view_module": "@jupyter-widgets/base",
            "_view_module_version": "1.2.0",
            "_view_name": "StyleView",
            "bar_color": null,
            "description_width": ""
          }
        },
        "63ce6f6e071341a9a5c8b289ee9d990e": {
          "model_module": "@jupyter-widgets/base",
          "model_name": "LayoutModel",
          "model_module_version": "1.2.0",
          "state": {
            "_model_module": "@jupyter-widgets/base",
            "_model_module_version": "1.2.0",
            "_model_name": "LayoutModel",
            "_view_count": null,
            "_view_module": "@jupyter-widgets/base",
            "_view_module_version": "1.2.0",
            "_view_name": "LayoutView",
            "align_content": null,
            "align_items": null,
            "align_self": null,
            "border": null,
            "bottom": null,
            "display": null,
            "flex": null,
            "flex_flow": null,
            "grid_area": null,
            "grid_auto_columns": null,
            "grid_auto_flow": null,
            "grid_auto_rows": null,
            "grid_column": null,
            "grid_gap": null,
            "grid_row": null,
            "grid_template_areas": null,
            "grid_template_columns": null,
            "grid_template_rows": null,
            "height": null,
            "justify_content": null,
            "justify_items": null,
            "left": null,
            "margin": null,
            "max_height": null,
            "max_width": null,
            "min_height": null,
            "min_width": null,
            "object_fit": null,
            "object_position": null,
            "order": null,
            "overflow": null,
            "overflow_x": null,
            "overflow_y": null,
            "padding": null,
            "right": null,
            "top": null,
            "visibility": null,
            "width": null
          }
        },
        "3f51f042b19541c0935f6d1be5dc3483": {
          "model_module": "@jupyter-widgets/controls",
          "model_name": "DescriptionStyleModel",
          "model_module_version": "1.5.0",
          "state": {
            "_model_module": "@jupyter-widgets/controls",
            "_model_module_version": "1.5.0",
            "_model_name": "DescriptionStyleModel",
            "_view_count": null,
            "_view_module": "@jupyter-widgets/base",
            "_view_module_version": "1.2.0",
            "_view_name": "StyleView",
            "description_width": ""
          }
        },
        "42b04738ed01493397b36bc580630368": {
          "model_module": "@jupyter-widgets/controls",
          "model_name": "HBoxModel",
          "model_module_version": "1.5.0",
          "state": {
            "_dom_classes": [],
            "_model_module": "@jupyter-widgets/controls",
            "_model_module_version": "1.5.0",
            "_model_name": "HBoxModel",
            "_view_count": null,
            "_view_module": "@jupyter-widgets/controls",
            "_view_module_version": "1.5.0",
            "_view_name": "HBoxView",
            "box_style": "",
            "children": [
              "IPY_MODEL_87e81f1e7eb44f12bba22b678adcdafd",
              "IPY_MODEL_8ff5d622e400486eb16c656d6e741127",
              "IPY_MODEL_f2c2d5c1e1e94456b587e324f93fdd0c"
            ],
            "layout": "IPY_MODEL_05abbf6617524687b69bae28473a5f93"
          }
        },
        "87e81f1e7eb44f12bba22b678adcdafd": {
          "model_module": "@jupyter-widgets/controls",
          "model_name": "HTMLModel",
          "model_module_version": "1.5.0",
          "state": {
            "_dom_classes": [],
            "_model_module": "@jupyter-widgets/controls",
            "_model_module_version": "1.5.0",
            "_model_name": "HTMLModel",
            "_view_count": null,
            "_view_module": "@jupyter-widgets/controls",
            "_view_module_version": "1.5.0",
            "_view_name": "HTMLView",
            "description": "",
            "description_tooltip": null,
            "layout": "IPY_MODEL_78cb281ec3504e37b0c99b2db65c1565",
            "placeholder": "​",
            "style": "IPY_MODEL_b7c25bdab99a425994241ba6b6274040",
            "value": "special_tokens_map.json: 100%"
          }
        },
        "8ff5d622e400486eb16c656d6e741127": {
          "model_module": "@jupyter-widgets/controls",
          "model_name": "FloatProgressModel",
          "model_module_version": "1.5.0",
          "state": {
            "_dom_classes": [],
            "_model_module": "@jupyter-widgets/controls",
            "_model_module_version": "1.5.0",
            "_model_name": "FloatProgressModel",
            "_view_count": null,
            "_view_module": "@jupyter-widgets/controls",
            "_view_module_version": "1.5.0",
            "_view_name": "ProgressView",
            "bar_style": "success",
            "description": "",
            "description_tooltip": null,
            "layout": "IPY_MODEL_24f02c12243b46bba4d5aeb5ac890780",
            "max": 85,
            "min": 0,
            "orientation": "horizontal",
            "style": "IPY_MODEL_942262a9367a4bbead92f4988135eeb4",
            "value": 85
          }
        },
        "f2c2d5c1e1e94456b587e324f93fdd0c": {
          "model_module": "@jupyter-widgets/controls",
          "model_name": "HTMLModel",
          "model_module_version": "1.5.0",
          "state": {
            "_dom_classes": [],
            "_model_module": "@jupyter-widgets/controls",
            "_model_module_version": "1.5.0",
            "_model_name": "HTMLModel",
            "_view_count": null,
            "_view_module": "@jupyter-widgets/controls",
            "_view_module_version": "1.5.0",
            "_view_name": "HTMLView",
            "description": "",
            "description_tooltip": null,
            "layout": "IPY_MODEL_93e902582b274fbcaaca413d5fcd5aa3",
            "placeholder": "​",
            "style": "IPY_MODEL_37b9fa1453384430a1e342f0de0e18c6",
            "value": " 85.0/85.0 [00:00&lt;00:00, 5.14kB/s]"
          }
        },
        "05abbf6617524687b69bae28473a5f93": {
          "model_module": "@jupyter-widgets/base",
          "model_name": "LayoutModel",
          "model_module_version": "1.2.0",
          "state": {
            "_model_module": "@jupyter-widgets/base",
            "_model_module_version": "1.2.0",
            "_model_name": "LayoutModel",
            "_view_count": null,
            "_view_module": "@jupyter-widgets/base",
            "_view_module_version": "1.2.0",
            "_view_name": "LayoutView",
            "align_content": null,
            "align_items": null,
            "align_self": null,
            "border": null,
            "bottom": null,
            "display": null,
            "flex": null,
            "flex_flow": null,
            "grid_area": null,
            "grid_auto_columns": null,
            "grid_auto_flow": null,
            "grid_auto_rows": null,
            "grid_column": null,
            "grid_gap": null,
            "grid_row": null,
            "grid_template_areas": null,
            "grid_template_columns": null,
            "grid_template_rows": null,
            "height": null,
            "justify_content": null,
            "justify_items": null,
            "left": null,
            "margin": null,
            "max_height": null,
            "max_width": null,
            "min_height": null,
            "min_width": null,
            "object_fit": null,
            "object_position": null,
            "order": null,
            "overflow": null,
            "overflow_x": null,
            "overflow_y": null,
            "padding": null,
            "right": null,
            "top": null,
            "visibility": null,
            "width": null
          }
        },
        "78cb281ec3504e37b0c99b2db65c1565": {
          "model_module": "@jupyter-widgets/base",
          "model_name": "LayoutModel",
          "model_module_version": "1.2.0",
          "state": {
            "_model_module": "@jupyter-widgets/base",
            "_model_module_version": "1.2.0",
            "_model_name": "LayoutModel",
            "_view_count": null,
            "_view_module": "@jupyter-widgets/base",
            "_view_module_version": "1.2.0",
            "_view_name": "LayoutView",
            "align_content": null,
            "align_items": null,
            "align_self": null,
            "border": null,
            "bottom": null,
            "display": null,
            "flex": null,
            "flex_flow": null,
            "grid_area": null,
            "grid_auto_columns": null,
            "grid_auto_flow": null,
            "grid_auto_rows": null,
            "grid_column": null,
            "grid_gap": null,
            "grid_row": null,
            "grid_template_areas": null,
            "grid_template_columns": null,
            "grid_template_rows": null,
            "height": null,
            "justify_content": null,
            "justify_items": null,
            "left": null,
            "margin": null,
            "max_height": null,
            "max_width": null,
            "min_height": null,
            "min_width": null,
            "object_fit": null,
            "object_position": null,
            "order": null,
            "overflow": null,
            "overflow_x": null,
            "overflow_y": null,
            "padding": null,
            "right": null,
            "top": null,
            "visibility": null,
            "width": null
          }
        },
        "b7c25bdab99a425994241ba6b6274040": {
          "model_module": "@jupyter-widgets/controls",
          "model_name": "DescriptionStyleModel",
          "model_module_version": "1.5.0",
          "state": {
            "_model_module": "@jupyter-widgets/controls",
            "_model_module_version": "1.5.0",
            "_model_name": "DescriptionStyleModel",
            "_view_count": null,
            "_view_module": "@jupyter-widgets/base",
            "_view_module_version": "1.2.0",
            "_view_name": "StyleView",
            "description_width": ""
          }
        },
        "24f02c12243b46bba4d5aeb5ac890780": {
          "model_module": "@jupyter-widgets/base",
          "model_name": "LayoutModel",
          "model_module_version": "1.2.0",
          "state": {
            "_model_module": "@jupyter-widgets/base",
            "_model_module_version": "1.2.0",
            "_model_name": "LayoutModel",
            "_view_count": null,
            "_view_module": "@jupyter-widgets/base",
            "_view_module_version": "1.2.0",
            "_view_name": "LayoutView",
            "align_content": null,
            "align_items": null,
            "align_self": null,
            "border": null,
            "bottom": null,
            "display": null,
            "flex": null,
            "flex_flow": null,
            "grid_area": null,
            "grid_auto_columns": null,
            "grid_auto_flow": null,
            "grid_auto_rows": null,
            "grid_column": null,
            "grid_gap": null,
            "grid_row": null,
            "grid_template_areas": null,
            "grid_template_columns": null,
            "grid_template_rows": null,
            "height": null,
            "justify_content": null,
            "justify_items": null,
            "left": null,
            "margin": null,
            "max_height": null,
            "max_width": null,
            "min_height": null,
            "min_width": null,
            "object_fit": null,
            "object_position": null,
            "order": null,
            "overflow": null,
            "overflow_x": null,
            "overflow_y": null,
            "padding": null,
            "right": null,
            "top": null,
            "visibility": null,
            "width": null
          }
        },
        "942262a9367a4bbead92f4988135eeb4": {
          "model_module": "@jupyter-widgets/controls",
          "model_name": "ProgressStyleModel",
          "model_module_version": "1.5.0",
          "state": {
            "_model_module": "@jupyter-widgets/controls",
            "_model_module_version": "1.5.0",
            "_model_name": "ProgressStyleModel",
            "_view_count": null,
            "_view_module": "@jupyter-widgets/base",
            "_view_module_version": "1.2.0",
            "_view_name": "StyleView",
            "bar_color": null,
            "description_width": ""
          }
        },
        "93e902582b274fbcaaca413d5fcd5aa3": {
          "model_module": "@jupyter-widgets/base",
          "model_name": "LayoutModel",
          "model_module_version": "1.2.0",
          "state": {
            "_model_module": "@jupyter-widgets/base",
            "_model_module_version": "1.2.0",
            "_model_name": "LayoutModel",
            "_view_count": null,
            "_view_module": "@jupyter-widgets/base",
            "_view_module_version": "1.2.0",
            "_view_name": "LayoutView",
            "align_content": null,
            "align_items": null,
            "align_self": null,
            "border": null,
            "bottom": null,
            "display": null,
            "flex": null,
            "flex_flow": null,
            "grid_area": null,
            "grid_auto_columns": null,
            "grid_auto_flow": null,
            "grid_auto_rows": null,
            "grid_column": null,
            "grid_gap": null,
            "grid_row": null,
            "grid_template_areas": null,
            "grid_template_columns": null,
            "grid_template_rows": null,
            "height": null,
            "justify_content": null,
            "justify_items": null,
            "left": null,
            "margin": null,
            "max_height": null,
            "max_width": null,
            "min_height": null,
            "min_width": null,
            "object_fit": null,
            "object_position": null,
            "order": null,
            "overflow": null,
            "overflow_x": null,
            "overflow_y": null,
            "padding": null,
            "right": null,
            "top": null,
            "visibility": null,
            "width": null
          }
        },
        "37b9fa1453384430a1e342f0de0e18c6": {
          "model_module": "@jupyter-widgets/controls",
          "model_name": "DescriptionStyleModel",
          "model_module_version": "1.5.0",
          "state": {
            "_model_module": "@jupyter-widgets/controls",
            "_model_module_version": "1.5.0",
            "_model_name": "DescriptionStyleModel",
            "_view_count": null,
            "_view_module": "@jupyter-widgets/base",
            "_view_module_version": "1.2.0",
            "_view_name": "StyleView",
            "description_width": ""
          }
        },
        "2eaf0e43b73243e6a04e3784773837aa": {
          "model_module": "@jupyter-widgets/controls",
          "model_name": "HBoxModel",
          "model_module_version": "1.5.0",
          "state": {
            "_dom_classes": [],
            "_model_module": "@jupyter-widgets/controls",
            "_model_module_version": "1.5.0",
            "_model_name": "HBoxModel",
            "_view_count": null,
            "_view_module": "@jupyter-widgets/controls",
            "_view_module_version": "1.5.0",
            "_view_name": "HBoxView",
            "box_style": "",
            "children": [
              "IPY_MODEL_0d8210626beb442eaee6a1342df3ba5c",
              "IPY_MODEL_2fb20bc18e274cc28d915ced5ac9ba58",
              "IPY_MODEL_1e4a144087614393859c1ae20370f7be"
            ],
            "layout": "IPY_MODEL_6bb39a16475f44efab07ddd955034fc5"
          }
        },
        "0d8210626beb442eaee6a1342df3ba5c": {
          "model_module": "@jupyter-widgets/controls",
          "model_name": "HTMLModel",
          "model_module_version": "1.5.0",
          "state": {
            "_dom_classes": [],
            "_model_module": "@jupyter-widgets/controls",
            "_model_module_version": "1.5.0",
            "_model_name": "HTMLModel",
            "_view_count": null,
            "_view_module": "@jupyter-widgets/controls",
            "_view_module_version": "1.5.0",
            "_view_name": "HTMLView",
            "description": "",
            "description_tooltip": null,
            "layout": "IPY_MODEL_f626ce12258e4ad895cff6de29eb6c9d",
            "placeholder": "​",
            "style": "IPY_MODEL_3a885f7811e440ae8b3d5a20c74d1442",
            "value": "config.json: 100%"
          }
        },
        "2fb20bc18e274cc28d915ced5ac9ba58": {
          "model_module": "@jupyter-widgets/controls",
          "model_name": "FloatProgressModel",
          "model_module_version": "1.5.0",
          "state": {
            "_dom_classes": [],
            "_model_module": "@jupyter-widgets/controls",
            "_model_module_version": "1.5.0",
            "_model_name": "FloatProgressModel",
            "_view_count": null,
            "_view_module": "@jupyter-widgets/controls",
            "_view_module_version": "1.5.0",
            "_view_name": "ProgressView",
            "bar_style": "success",
            "description": "",
            "description_tooltip": null,
            "layout": "IPY_MODEL_02a536c0df234fb494700fe0287300ab",
            "max": 1596,
            "min": 0,
            "orientation": "horizontal",
            "style": "IPY_MODEL_7163b5cf828c4bb1b21a8a12775c591a",
            "value": 1596
          }
        },
        "1e4a144087614393859c1ae20370f7be": {
          "model_module": "@jupyter-widgets/controls",
          "model_name": "HTMLModel",
          "model_module_version": "1.5.0",
          "state": {
            "_dom_classes": [],
            "_model_module": "@jupyter-widgets/controls",
            "_model_module_version": "1.5.0",
            "_model_name": "HTMLModel",
            "_view_count": null,
            "_view_module": "@jupyter-widgets/controls",
            "_view_module_version": "1.5.0",
            "_view_name": "HTMLView",
            "description": "",
            "description_tooltip": null,
            "layout": "IPY_MODEL_c87796a40b814d40b2133bf225c8ab41",
            "placeholder": "​",
            "style": "IPY_MODEL_38ebf60bca26475681eed5e93547ed39",
            "value": " 1.60k/1.60k [00:00&lt;00:00, 92.7kB/s]"
          }
        },
        "6bb39a16475f44efab07ddd955034fc5": {
          "model_module": "@jupyter-widgets/base",
          "model_name": "LayoutModel",
          "model_module_version": "1.2.0",
          "state": {
            "_model_module": "@jupyter-widgets/base",
            "_model_module_version": "1.2.0",
            "_model_name": "LayoutModel",
            "_view_count": null,
            "_view_module": "@jupyter-widgets/base",
            "_view_module_version": "1.2.0",
            "_view_name": "LayoutView",
            "align_content": null,
            "align_items": null,
            "align_self": null,
            "border": null,
            "bottom": null,
            "display": null,
            "flex": null,
            "flex_flow": null,
            "grid_area": null,
            "grid_auto_columns": null,
            "grid_auto_flow": null,
            "grid_auto_rows": null,
            "grid_column": null,
            "grid_gap": null,
            "grid_row": null,
            "grid_template_areas": null,
            "grid_template_columns": null,
            "grid_template_rows": null,
            "height": null,
            "justify_content": null,
            "justify_items": null,
            "left": null,
            "margin": null,
            "max_height": null,
            "max_width": null,
            "min_height": null,
            "min_width": null,
            "object_fit": null,
            "object_position": null,
            "order": null,
            "overflow": null,
            "overflow_x": null,
            "overflow_y": null,
            "padding": null,
            "right": null,
            "top": null,
            "visibility": null,
            "width": null
          }
        },
        "f626ce12258e4ad895cff6de29eb6c9d": {
          "model_module": "@jupyter-widgets/base",
          "model_name": "LayoutModel",
          "model_module_version": "1.2.0",
          "state": {
            "_model_module": "@jupyter-widgets/base",
            "_model_module_version": "1.2.0",
            "_model_name": "LayoutModel",
            "_view_count": null,
            "_view_module": "@jupyter-widgets/base",
            "_view_module_version": "1.2.0",
            "_view_name": "LayoutView",
            "align_content": null,
            "align_items": null,
            "align_self": null,
            "border": null,
            "bottom": null,
            "display": null,
            "flex": null,
            "flex_flow": null,
            "grid_area": null,
            "grid_auto_columns": null,
            "grid_auto_flow": null,
            "grid_auto_rows": null,
            "grid_column": null,
            "grid_gap": null,
            "grid_row": null,
            "grid_template_areas": null,
            "grid_template_columns": null,
            "grid_template_rows": null,
            "height": null,
            "justify_content": null,
            "justify_items": null,
            "left": null,
            "margin": null,
            "max_height": null,
            "max_width": null,
            "min_height": null,
            "min_width": null,
            "object_fit": null,
            "object_position": null,
            "order": null,
            "overflow": null,
            "overflow_x": null,
            "overflow_y": null,
            "padding": null,
            "right": null,
            "top": null,
            "visibility": null,
            "width": null
          }
        },
        "3a885f7811e440ae8b3d5a20c74d1442": {
          "model_module": "@jupyter-widgets/controls",
          "model_name": "DescriptionStyleModel",
          "model_module_version": "1.5.0",
          "state": {
            "_model_module": "@jupyter-widgets/controls",
            "_model_module_version": "1.5.0",
            "_model_name": "DescriptionStyleModel",
            "_view_count": null,
            "_view_module": "@jupyter-widgets/base",
            "_view_module_version": "1.2.0",
            "_view_name": "StyleView",
            "description_width": ""
          }
        },
        "02a536c0df234fb494700fe0287300ab": {
          "model_module": "@jupyter-widgets/base",
          "model_name": "LayoutModel",
          "model_module_version": "1.2.0",
          "state": {
            "_model_module": "@jupyter-widgets/base",
            "_model_module_version": "1.2.0",
            "_model_name": "LayoutModel",
            "_view_count": null,
            "_view_module": "@jupyter-widgets/base",
            "_view_module_version": "1.2.0",
            "_view_name": "LayoutView",
            "align_content": null,
            "align_items": null,
            "align_self": null,
            "border": null,
            "bottom": null,
            "display": null,
            "flex": null,
            "flex_flow": null,
            "grid_area": null,
            "grid_auto_columns": null,
            "grid_auto_flow": null,
            "grid_auto_rows": null,
            "grid_column": null,
            "grid_gap": null,
            "grid_row": null,
            "grid_template_areas": null,
            "grid_template_columns": null,
            "grid_template_rows": null,
            "height": null,
            "justify_content": null,
            "justify_items": null,
            "left": null,
            "margin": null,
            "max_height": null,
            "max_width": null,
            "min_height": null,
            "min_width": null,
            "object_fit": null,
            "object_position": null,
            "order": null,
            "overflow": null,
            "overflow_x": null,
            "overflow_y": null,
            "padding": null,
            "right": null,
            "top": null,
            "visibility": null,
            "width": null
          }
        },
        "7163b5cf828c4bb1b21a8a12775c591a": {
          "model_module": "@jupyter-widgets/controls",
          "model_name": "ProgressStyleModel",
          "model_module_version": "1.5.0",
          "state": {
            "_model_module": "@jupyter-widgets/controls",
            "_model_module_version": "1.5.0",
            "_model_name": "ProgressStyleModel",
            "_view_count": null,
            "_view_module": "@jupyter-widgets/base",
            "_view_module_version": "1.2.0",
            "_view_name": "StyleView",
            "bar_color": null,
            "description_width": ""
          }
        },
        "c87796a40b814d40b2133bf225c8ab41": {
          "model_module": "@jupyter-widgets/base",
          "model_name": "LayoutModel",
          "model_module_version": "1.2.0",
          "state": {
            "_model_module": "@jupyter-widgets/base",
            "_model_module_version": "1.2.0",
            "_model_name": "LayoutModel",
            "_view_count": null,
            "_view_module": "@jupyter-widgets/base",
            "_view_module_version": "1.2.0",
            "_view_name": "LayoutView",
            "align_content": null,
            "align_items": null,
            "align_self": null,
            "border": null,
            "bottom": null,
            "display": null,
            "flex": null,
            "flex_flow": null,
            "grid_area": null,
            "grid_auto_columns": null,
            "grid_auto_flow": null,
            "grid_auto_rows": null,
            "grid_column": null,
            "grid_gap": null,
            "grid_row": null,
            "grid_template_areas": null,
            "grid_template_columns": null,
            "grid_template_rows": null,
            "height": null,
            "justify_content": null,
            "justify_items": null,
            "left": null,
            "margin": null,
            "max_height": null,
            "max_width": null,
            "min_height": null,
            "min_width": null,
            "object_fit": null,
            "object_position": null,
            "order": null,
            "overflow": null,
            "overflow_x": null,
            "overflow_y": null,
            "padding": null,
            "right": null,
            "top": null,
            "visibility": null,
            "width": null
          }
        },
        "38ebf60bca26475681eed5e93547ed39": {
          "model_module": "@jupyter-widgets/controls",
          "model_name": "DescriptionStyleModel",
          "model_module_version": "1.5.0",
          "state": {
            "_model_module": "@jupyter-widgets/controls",
            "_model_module_version": "1.5.0",
            "_model_name": "DescriptionStyleModel",
            "_view_count": null,
            "_view_module": "@jupyter-widgets/base",
            "_view_module_version": "1.2.0",
            "_view_name": "StyleView",
            "description_width": ""
          }
        },
        "98efa007c4214ff39aca2741f4698a44": {
          "model_module": "@jupyter-widgets/controls",
          "model_name": "HBoxModel",
          "model_module_version": "1.5.0",
          "state": {
            "_dom_classes": [],
            "_model_module": "@jupyter-widgets/controls",
            "_model_module_version": "1.5.0",
            "_model_name": "HBoxModel",
            "_view_count": null,
            "_view_module": "@jupyter-widgets/controls",
            "_view_module_version": "1.5.0",
            "_view_name": "HBoxView",
            "box_style": "",
            "children": [
              "IPY_MODEL_dae5052bd97e402b85681738cf7144e6",
              "IPY_MODEL_38f14f240c944972a8ca4a6a2ef2c422",
              "IPY_MODEL_28a9e10125b54154a9dd29b62f8993f2"
            ],
            "layout": "IPY_MODEL_6bfdfeb956684629a243beb51d7fb840"
          }
        },
        "dae5052bd97e402b85681738cf7144e6": {
          "model_module": "@jupyter-widgets/controls",
          "model_name": "HTMLModel",
          "model_module_version": "1.5.0",
          "state": {
            "_dom_classes": [],
            "_model_module": "@jupyter-widgets/controls",
            "_model_module_version": "1.5.0",
            "_model_name": "HTMLModel",
            "_view_count": null,
            "_view_module": "@jupyter-widgets/controls",
            "_view_module_version": "1.5.0",
            "_view_name": "HTMLView",
            "description": "",
            "description_tooltip": null,
            "layout": "IPY_MODEL_75ebe98c2de949f1aebd1a2b5dd1b08c",
            "placeholder": "​",
            "style": "IPY_MODEL_fff0b42e24fb4519bed18eb19cf4a9f9",
            "value": "model.safetensors: 100%"
          }
        },
        "38f14f240c944972a8ca4a6a2ef2c422": {
          "model_module": "@jupyter-widgets/controls",
          "model_name": "FloatProgressModel",
          "model_module_version": "1.5.0",
          "state": {
            "_dom_classes": [],
            "_model_module": "@jupyter-widgets/controls",
            "_model_module_version": "1.5.0",
            "_model_name": "FloatProgressModel",
            "_view_count": null,
            "_view_module": "@jupyter-widgets/controls",
            "_view_module_version": "1.5.0",
            "_view_name": "ProgressView",
            "bar_style": "success",
            "description": "",
            "description_tooltip": null,
            "layout": "IPY_MODEL_93df1c07726d4434879250f3f0e094dd",
            "max": 377607901,
            "min": 0,
            "orientation": "horizontal",
            "style": "IPY_MODEL_131e7740872f467380739d7cb11aea45",
            "value": 377607901
          }
        },
        "28a9e10125b54154a9dd29b62f8993f2": {
          "model_module": "@jupyter-widgets/controls",
          "model_name": "HTMLModel",
          "model_module_version": "1.5.0",
          "state": {
            "_dom_classes": [],
            "_model_module": "@jupyter-widgets/controls",
            "_model_module_version": "1.5.0",
            "_model_name": "HTMLModel",
            "_view_count": null,
            "_view_module": "@jupyter-widgets/controls",
            "_view_module_version": "1.5.0",
            "_view_name": "HTMLView",
            "description": "",
            "description_tooltip": null,
            "layout": "IPY_MODEL_bc990820957840248ce15cac355e7917",
            "placeholder": "​",
            "style": "IPY_MODEL_0190d3ca413f4dc5a8644bec88f27975",
            "value": " 378M/378M [00:01&lt;00:00, 249MB/s]"
          }
        },
        "6bfdfeb956684629a243beb51d7fb840": {
          "model_module": "@jupyter-widgets/base",
          "model_name": "LayoutModel",
          "model_module_version": "1.2.0",
          "state": {
            "_model_module": "@jupyter-widgets/base",
            "_model_module_version": "1.2.0",
            "_model_name": "LayoutModel",
            "_view_count": null,
            "_view_module": "@jupyter-widgets/base",
            "_view_module_version": "1.2.0",
            "_view_name": "LayoutView",
            "align_content": null,
            "align_items": null,
            "align_self": null,
            "border": null,
            "bottom": null,
            "display": null,
            "flex": null,
            "flex_flow": null,
            "grid_area": null,
            "grid_auto_columns": null,
            "grid_auto_flow": null,
            "grid_auto_rows": null,
            "grid_column": null,
            "grid_gap": null,
            "grid_row": null,
            "grid_template_areas": null,
            "grid_template_columns": null,
            "grid_template_rows": null,
            "height": null,
            "justify_content": null,
            "justify_items": null,
            "left": null,
            "margin": null,
            "max_height": null,
            "max_width": null,
            "min_height": null,
            "min_width": null,
            "object_fit": null,
            "object_position": null,
            "order": null,
            "overflow": null,
            "overflow_x": null,
            "overflow_y": null,
            "padding": null,
            "right": null,
            "top": null,
            "visibility": null,
            "width": null
          }
        },
        "75ebe98c2de949f1aebd1a2b5dd1b08c": {
          "model_module": "@jupyter-widgets/base",
          "model_name": "LayoutModel",
          "model_module_version": "1.2.0",
          "state": {
            "_model_module": "@jupyter-widgets/base",
            "_model_module_version": "1.2.0",
            "_model_name": "LayoutModel",
            "_view_count": null,
            "_view_module": "@jupyter-widgets/base",
            "_view_module_version": "1.2.0",
            "_view_name": "LayoutView",
            "align_content": null,
            "align_items": null,
            "align_self": null,
            "border": null,
            "bottom": null,
            "display": null,
            "flex": null,
            "flex_flow": null,
            "grid_area": null,
            "grid_auto_columns": null,
            "grid_auto_flow": null,
            "grid_auto_rows": null,
            "grid_column": null,
            "grid_gap": null,
            "grid_row": null,
            "grid_template_areas": null,
            "grid_template_columns": null,
            "grid_template_rows": null,
            "height": null,
            "justify_content": null,
            "justify_items": null,
            "left": null,
            "margin": null,
            "max_height": null,
            "max_width": null,
            "min_height": null,
            "min_width": null,
            "object_fit": null,
            "object_position": null,
            "order": null,
            "overflow": null,
            "overflow_x": null,
            "overflow_y": null,
            "padding": null,
            "right": null,
            "top": null,
            "visibility": null,
            "width": null
          }
        },
        "fff0b42e24fb4519bed18eb19cf4a9f9": {
          "model_module": "@jupyter-widgets/controls",
          "model_name": "DescriptionStyleModel",
          "model_module_version": "1.5.0",
          "state": {
            "_model_module": "@jupyter-widgets/controls",
            "_model_module_version": "1.5.0",
            "_model_name": "DescriptionStyleModel",
            "_view_count": null,
            "_view_module": "@jupyter-widgets/base",
            "_view_module_version": "1.2.0",
            "_view_name": "StyleView",
            "description_width": ""
          }
        },
        "93df1c07726d4434879250f3f0e094dd": {
          "model_module": "@jupyter-widgets/base",
          "model_name": "LayoutModel",
          "model_module_version": "1.2.0",
          "state": {
            "_model_module": "@jupyter-widgets/base",
            "_model_module_version": "1.2.0",
            "_model_name": "LayoutModel",
            "_view_count": null,
            "_view_module": "@jupyter-widgets/base",
            "_view_module_version": "1.2.0",
            "_view_name": "LayoutView",
            "align_content": null,
            "align_items": null,
            "align_self": null,
            "border": null,
            "bottom": null,
            "display": null,
            "flex": null,
            "flex_flow": null,
            "grid_area": null,
            "grid_auto_columns": null,
            "grid_auto_flow": null,
            "grid_auto_rows": null,
            "grid_column": null,
            "grid_gap": null,
            "grid_row": null,
            "grid_template_areas": null,
            "grid_template_columns": null,
            "grid_template_rows": null,
            "height": null,
            "justify_content": null,
            "justify_items": null,
            "left": null,
            "margin": null,
            "max_height": null,
            "max_width": null,
            "min_height": null,
            "min_width": null,
            "object_fit": null,
            "object_position": null,
            "order": null,
            "overflow": null,
            "overflow_x": null,
            "overflow_y": null,
            "padding": null,
            "right": null,
            "top": null,
            "visibility": null,
            "width": null
          }
        },
        "131e7740872f467380739d7cb11aea45": {
          "model_module": "@jupyter-widgets/controls",
          "model_name": "ProgressStyleModel",
          "model_module_version": "1.5.0",
          "state": {
            "_model_module": "@jupyter-widgets/controls",
            "_model_module_version": "1.5.0",
            "_model_name": "ProgressStyleModel",
            "_view_count": null,
            "_view_module": "@jupyter-widgets/base",
            "_view_module_version": "1.2.0",
            "_view_name": "StyleView",
            "bar_color": null,
            "description_width": ""
          }
        },
        "bc990820957840248ce15cac355e7917": {
          "model_module": "@jupyter-widgets/base",
          "model_name": "LayoutModel",
          "model_module_version": "1.2.0",
          "state": {
            "_model_module": "@jupyter-widgets/base",
            "_model_module_version": "1.2.0",
            "_model_name": "LayoutModel",
            "_view_count": null,
            "_view_module": "@jupyter-widgets/base",
            "_view_module_version": "1.2.0",
            "_view_name": "LayoutView",
            "align_content": null,
            "align_items": null,
            "align_self": null,
            "border": null,
            "bottom": null,
            "display": null,
            "flex": null,
            "flex_flow": null,
            "grid_area": null,
            "grid_auto_columns": null,
            "grid_auto_flow": null,
            "grid_auto_rows": null,
            "grid_column": null,
            "grid_gap": null,
            "grid_row": null,
            "grid_template_areas": null,
            "grid_template_columns": null,
            "grid_template_rows": null,
            "height": null,
            "justify_content": null,
            "justify_items": null,
            "left": null,
            "margin": null,
            "max_height": null,
            "max_width": null,
            "min_height": null,
            "min_width": null,
            "object_fit": null,
            "object_position": null,
            "order": null,
            "overflow": null,
            "overflow_x": null,
            "overflow_y": null,
            "padding": null,
            "right": null,
            "top": null,
            "visibility": null,
            "width": null
          }
        },
        "0190d3ca413f4dc5a8644bec88f27975": {
          "model_module": "@jupyter-widgets/controls",
          "model_name": "DescriptionStyleModel",
          "model_module_version": "1.5.0",
          "state": {
            "_model_module": "@jupyter-widgets/controls",
            "_model_module_version": "1.5.0",
            "_model_name": "DescriptionStyleModel",
            "_view_count": null,
            "_view_module": "@jupyter-widgets/base",
            "_view_module_version": "1.2.0",
            "_view_name": "StyleView",
            "description_width": ""
          }
        }
      }
    }
  },
  "cells": [
    {
      "cell_type": "markdown",
      "metadata": {
        "id": "view-in-github",
        "colab_type": "text"
      },
      "source": [
        "<a href=\"https://colab.research.google.com/github/YUKTHI-PRABHU/Hugging-face/blob/main/Hugging_Face.ipynb\" target=\"_parent\"><img src=\"https://colab.research.google.com/assets/colab-badge.svg\" alt=\"Open In Colab\"/></a>"
      ]
    },
    {
      "cell_type": "code",
      "execution_count": null,
      "metadata": {
        "id": "NA4XzgLS0Di0",
        "colab": {
          "base_uri": "https://localhost:8080/"
        },
        "outputId": "9f061e84-3ab4-42ad-c00b-14500e0537f2"
      },
      "outputs": [
        {
          "output_type": "stream",
          "name": "stdout",
          "text": [
            "Requirement already satisfied: transformers in /usr/local/lib/python3.10/dist-packages (4.47.1)\n",
            "Requirement already satisfied: filelock in /usr/local/lib/python3.10/dist-packages (from transformers) (3.16.1)\n",
            "Requirement already satisfied: huggingface-hub<1.0,>=0.24.0 in /usr/local/lib/python3.10/dist-packages (from transformers) (0.27.0)\n",
            "Requirement already satisfied: numpy>=1.17 in /usr/local/lib/python3.10/dist-packages (from transformers) (1.26.4)\n",
            "Requirement already satisfied: packaging>=20.0 in /usr/local/lib/python3.10/dist-packages (from transformers) (24.2)\n",
            "Requirement already satisfied: pyyaml>=5.1 in /usr/local/lib/python3.10/dist-packages (from transformers) (6.0.2)\n",
            "Requirement already satisfied: regex!=2019.12.17 in /usr/local/lib/python3.10/dist-packages (from transformers) (2024.11.6)\n",
            "Requirement already satisfied: requests in /usr/local/lib/python3.10/dist-packages (from transformers) (2.32.3)\n",
            "Requirement already satisfied: tokenizers<0.22,>=0.21 in /usr/local/lib/python3.10/dist-packages (from transformers) (0.21.0)\n",
            "Requirement already satisfied: safetensors>=0.4.1 in /usr/local/lib/python3.10/dist-packages (from transformers) (0.4.5)\n",
            "Requirement already satisfied: tqdm>=4.27 in /usr/local/lib/python3.10/dist-packages (from transformers) (4.67.1)\n",
            "Requirement already satisfied: fsspec>=2023.5.0 in /usr/local/lib/python3.10/dist-packages (from huggingface-hub<1.0,>=0.24.0->transformers) (2024.10.0)\n",
            "Requirement already satisfied: typing-extensions>=3.7.4.3 in /usr/local/lib/python3.10/dist-packages (from huggingface-hub<1.0,>=0.24.0->transformers) (4.12.2)\n",
            "Requirement already satisfied: charset-normalizer<4,>=2 in /usr/local/lib/python3.10/dist-packages (from requests->transformers) (3.4.0)\n",
            "Requirement already satisfied: idna<4,>=2.5 in /usr/local/lib/python3.10/dist-packages (from requests->transformers) (3.10)\n",
            "Requirement already satisfied: urllib3<3,>=1.21.1 in /usr/local/lib/python3.10/dist-packages (from requests->transformers) (2.2.3)\n",
            "Requirement already satisfied: certifi>=2017.4.17 in /usr/local/lib/python3.10/dist-packages (from requests->transformers) (2024.12.14)\n"
          ]
        }
      ],
      "source": [
        "pip install transformers\n"
      ]
    },
    {
      "cell_type": "code",
      "source": [
        "from transformers import pipeline"
      ],
      "metadata": {
        "id": "iIMk624Cfh8A"
      },
      "execution_count": null,
      "outputs": []
    },
    {
      "cell_type": "code",
      "source": [
        "import transformers\n",
        "print(transformers.__version__)"
      ],
      "metadata": {
        "colab": {
          "base_uri": "https://localhost:8080/"
        },
        "id": "Darb6cBwRKCo",
        "outputId": "51b1ff32-1474-453c-8efa-506a66b197b1"
      },
      "execution_count": null,
      "outputs": [
        {
          "output_type": "stream",
          "name": "stdout",
          "text": [
            "4.47.1\n"
          ]
        }
      ]
    },
    {
      "cell_type": "code",
      "source": [
        "import librosa\n",
        "import torch\n",
        "import numpy as np\n",
        "from transformers import Wav2Vec2ForCTC, Wav2Vec2Tokenizer\n",
        "import IPython.display as display"
      ],
      "metadata": {
        "id": "Jw7JoKj1TcTO"
      },
      "execution_count": null,
      "outputs": []
    },
    {
      "cell_type": "code",
      "source": [
        "from transformers import Wav2Vec2ForCTC, Wav2Vec2Tokenizer\n",
        "tokenizer = Wav2Vec2Tokenizer.from_pretrained(\"facebook/wav2vec2-base-960h\")\n",
        "model = Wav2Vec2ForCTC.from_pretrained(\"facebook/wav2vec2-base-960h\")\n"
      ],
      "metadata": {
        "colab": {
          "base_uri": "https://localhost:8080/",
          "height": 423,
          "referenced_widgets": [
            "867846c341ff4ad584c5c11e1e2f5d91",
            "9662a76a8bcd4da2a2475285be575158",
            "e634324c0e1540cb9eb8598c37dd0e93",
            "b9796160f6a846a4aed943fe52b3c332",
            "54ca36054d2e448cabec4f860124e161",
            "41a91de1ae3a410aa55df260f5e2ae7e",
            "cd4539acb5204e89a6dc8884ea53ec4a",
            "6b80b64d3d2f41c992b181d88f1e4191",
            "c22752e8853e44e79bc2ea271f4faffb",
            "0bfa11d0fd03490fb1321437cdeab263",
            "2afe05139bc04a4092f070a2a66106a0",
            "70679d76c0ee486a8be89e6e8d9633aa",
            "89d91874ca4947288161bd25ead05f1b",
            "4d2017e5b1c1414f8082d74ae09a71e0",
            "9f3e34761b944275bac91358fde48e9c",
            "1ccad47c41aa45679714bc3961cdd1d1",
            "65b7af0611074b24a3e7cd1a05e798d8",
            "91681f2bbb9f4ae9b3a60c25902938a0",
            "63882b57fa104ccf9f964ab741f905d2",
            "e57a8bff392c41a2a8082a0c73aa7ac0",
            "63ce6f6e071341a9a5c8b289ee9d990e",
            "3f51f042b19541c0935f6d1be5dc3483",
            "42b04738ed01493397b36bc580630368",
            "87e81f1e7eb44f12bba22b678adcdafd",
            "8ff5d622e400486eb16c656d6e741127",
            "f2c2d5c1e1e94456b587e324f93fdd0c",
            "05abbf6617524687b69bae28473a5f93",
            "78cb281ec3504e37b0c99b2db65c1565",
            "b7c25bdab99a425994241ba6b6274040",
            "24f02c12243b46bba4d5aeb5ac890780",
            "942262a9367a4bbead92f4988135eeb4",
            "93e902582b274fbcaaca413d5fcd5aa3",
            "37b9fa1453384430a1e342f0de0e18c6",
            "2eaf0e43b73243e6a04e3784773837aa",
            "0d8210626beb442eaee6a1342df3ba5c",
            "2fb20bc18e274cc28d915ced5ac9ba58",
            "1e4a144087614393859c1ae20370f7be",
            "6bb39a16475f44efab07ddd955034fc5",
            "f626ce12258e4ad895cff6de29eb6c9d",
            "3a885f7811e440ae8b3d5a20c74d1442",
            "02a536c0df234fb494700fe0287300ab",
            "7163b5cf828c4bb1b21a8a12775c591a",
            "c87796a40b814d40b2133bf225c8ab41",
            "38ebf60bca26475681eed5e93547ed39",
            "98efa007c4214ff39aca2741f4698a44",
            "dae5052bd97e402b85681738cf7144e6",
            "38f14f240c944972a8ca4a6a2ef2c422",
            "28a9e10125b54154a9dd29b62f8993f2",
            "6bfdfeb956684629a243beb51d7fb840",
            "75ebe98c2de949f1aebd1a2b5dd1b08c",
            "fff0b42e24fb4519bed18eb19cf4a9f9",
            "93df1c07726d4434879250f3f0e094dd",
            "131e7740872f467380739d7cb11aea45",
            "bc990820957840248ce15cac355e7917",
            "0190d3ca413f4dc5a8644bec88f27975"
          ]
        },
        "id": "U1L6OPSSa61i",
        "outputId": "038936e0-25c8-4316-8ded-ac18320d470a"
      },
      "execution_count": 2,
      "outputs": [
        {
          "output_type": "stream",
          "name": "stderr",
          "text": [
            "/usr/local/lib/python3.10/dist-packages/huggingface_hub/utils/_auth.py:94: UserWarning: \n",
            "The secret `HF_TOKEN` does not exist in your Colab secrets.\n",
            "To authenticate with the Hugging Face Hub, create a token in your settings tab (https://huggingface.co/settings/tokens), set it as secret in your Google Colab and restart your session.\n",
            "You will be able to reuse this secret in all of your notebooks.\n",
            "Please note that authentication is recommended but still optional to access public models or datasets.\n",
            "  warnings.warn(\n"
          ]
        },
        {
          "output_type": "display_data",
          "data": {
            "text/plain": [
              "tokenizer_config.json:   0%|          | 0.00/163 [00:00<?, ?B/s]"
            ],
            "application/vnd.jupyter.widget-view+json": {
              "version_major": 2,
              "version_minor": 0,
              "model_id": "867846c341ff4ad584c5c11e1e2f5d91"
            }
          },
          "metadata": {}
        },
        {
          "output_type": "display_data",
          "data": {
            "text/plain": [
              "vocab.json:   0%|          | 0.00/291 [00:00<?, ?B/s]"
            ],
            "application/vnd.jupyter.widget-view+json": {
              "version_major": 2,
              "version_minor": 0,
              "model_id": "70679d76c0ee486a8be89e6e8d9633aa"
            }
          },
          "metadata": {}
        },
        {
          "output_type": "display_data",
          "data": {
            "text/plain": [
              "special_tokens_map.json:   0%|          | 0.00/85.0 [00:00<?, ?B/s]"
            ],
            "application/vnd.jupyter.widget-view+json": {
              "version_major": 2,
              "version_minor": 0,
              "model_id": "42b04738ed01493397b36bc580630368"
            }
          },
          "metadata": {}
        },
        {
          "output_type": "display_data",
          "data": {
            "text/plain": [
              "config.json:   0%|          | 0.00/1.60k [00:00<?, ?B/s]"
            ],
            "application/vnd.jupyter.widget-view+json": {
              "version_major": 2,
              "version_minor": 0,
              "model_id": "2eaf0e43b73243e6a04e3784773837aa"
            }
          },
          "metadata": {}
        },
        {
          "output_type": "stream",
          "name": "stderr",
          "text": [
            "The tokenizer class you load from this checkpoint is not the same type as the class this function is called from. It may result in unexpected tokenization. \n",
            "The tokenizer class you load from this checkpoint is 'Wav2Vec2CTCTokenizer'. \n",
            "The class this function is called from is 'Wav2Vec2Tokenizer'.\n",
            "/usr/local/lib/python3.10/dist-packages/transformers/models/wav2vec2/tokenization_wav2vec2.py:720: FutureWarning: The class `Wav2Vec2Tokenizer` is deprecated and will be removed in version 5 of Transformers. Please use `Wav2Vec2Processor` or `Wav2Vec2CTCTokenizer` instead.\n",
            "  warnings.warn(\n"
          ]
        },
        {
          "output_type": "display_data",
          "data": {
            "text/plain": [
              "model.safetensors:   0%|          | 0.00/378M [00:00<?, ?B/s]"
            ],
            "application/vnd.jupyter.widget-view+json": {
              "version_major": 2,
              "version_minor": 0,
              "model_id": "98efa007c4214ff39aca2741f4698a44"
            }
          },
          "metadata": {}
        },
        {
          "output_type": "stream",
          "name": "stderr",
          "text": [
            "Some weights of Wav2Vec2ForCTC were not initialized from the model checkpoint at facebook/wav2vec2-base-960h and are newly initialized: ['wav2vec2.masked_spec_embed']\n",
            "You should probably TRAIN this model on a down-stream task to be able to use it for predictions and inference.\n"
          ]
        }
      ]
    },
    {
      "cell_type": "code",
      "source": [
        "import librosa\n",
        "audio,sampling_rate=librosa.load(\"/v.m4a\",sr=16000)"
      ],
      "metadata": {
        "id": "0ZTT8H9pbWkY"
      },
      "execution_count": 4,
      "outputs": []
    },
    {
      "cell_type": "code",
      "source": [
        "audio,sampling_rate"
      ],
      "metadata": {
        "colab": {
          "base_uri": "https://localhost:8080/"
        },
        "id": "6xEbBdvueO_J",
        "outputId": "2bf8d953-c9d7-4031-fd14-8c157024ef86"
      },
      "execution_count": 8,
      "outputs": [
        {
          "output_type": "execute_result",
          "data": {
            "text/plain": [
              "(array([ 0.        ,  0.        ,  0.        , ..., -0.00146484,\n",
              "        -0.00238037, -0.00256348], dtype=float32),\n",
              " 16000)"
            ]
          },
          "metadata": {},
          "execution_count": 8
        }
      ]
    },
    {
      "cell_type": "code",
      "source": [
        "import IPython.display as display\n",
        "display.Audio('/v.m4a',autoplay=True)"
      ],
      "metadata": {
        "colab": {
          "base_uri": "https://localhost:8080/",
          "height": 75
        },
        "id": "uuR3Gje2bzif",
        "outputId": "e1a3b28f-45ba-466a-8ddc-d17f546d759d"
      },
      "execution_count": 7,
      "outputs": [
        {
          "output_type": "execute_result",
          "data": {
            "text/plain": [
              "<IPython.lib.display.Audio object>"
            ],
            "text/html": [
              "\n",
              "                <audio  controls=\"controls\" autoplay=\"autoplay\">\n",
              "                    <source src=\"data:audio/mp4;base64,T2dnUwACAAAAAAAAAAAAAAAAAAAAACqCBoIBE09wdXNIZWFkAQFoAIA+AAAAAABPZ2dTAAAAAAAAAAAAAAAAAAABAAAAjzLsvAEYT3B1c1RhZ3MIAAAAV2hhdHNBcHAAAAAAT2dnUwAAaGgBAAAAAAAAAAAAAgAAAEZGQz8Y/f88/zL/G/ry2uHf3uz/Av8u/yL/Nv8QS4YRJzcyKgvkqU7OWyHcRcN29yqob7UdgApXURL94A+ViIgJeVal0m7ThrfRsR423UPxtf2WOyIwJdNGEhyAjB891wOiD3iz07153RWXiEtFU3ROpvtXqFK+bfgLDRWy+S2n6JBlk39Kd44Vy1ulQNIDqPZhQoIYhWMjkSv+vo3SzS6Fq5oyFscYDf94vttZNX+txDDKK82GAYeunmoN/k8RLj5E3v6Ai8j8ozR3H9P0G5gOW29iCvI3uB9eawDmOJGAk05uWnZtG33KUaUvhoFAgbJ8SDHO5WW+u69xycZCPRKfO1N0NEgw5Tub4LyRbhwFKXNmL58NhLtvgEuGKy03OzOKYIZrPFuxxmErakWvJbl7wqT1defNoKxVoaDa0OYsd+5DMTB7fO9kSBgQgXiqtAZ8UubkGZJPuVK/mPAYGEJMSa6AH6P4SxTUt9XrSPXIqGYpDzIemWw6gaNp7428WHs7t81nQw/t6Vupv7DeUTH5VMhjLr3Rkc8NleW749K2edBMcx6IdW5RDCBK1+LtgJ/+A7nYC8BtbaVrcwZ1XvMn/yk2nSYEfmxkXTjR/lMuWep9409FM0SuA1cDaGZJUNAaz1/PvBKIB1Bmn/1CJyHF4EDA7BEKe+WXOrJ04/1rrR4GNDDVVX1YzvL0tBlNjlvTjuEWPcXPWSfYBcMXn9mohHr5O1cAwVa71nWqpf7ggQ1XkamFEoiggmtp4LSFBtojWT/rVGJG7EQnVBULMVIubqwwgEuGNDAxLjaedMN9Bg7QLcYtNXIcmrv8nDPPLTeXlPxuZJCSlR1xKw3y6+MTYWWteCSSCl5I2jKVwsHivcPbRdCFEEUPFV6cl7TZ3O8sGOODG4eIqFRPJ3L/Vn7cAFwipMBbv2I+fBGVGadEvbZGJnP+37EJTV36q6X8BmvjsfSQyYtbPICd/vNBKy7OhNcFnFC8pemZsXNstYbUmJu2+FRevUDdp+I/IdXfEWuKGfS/SVjRxb7tV3IGySa0pAxfqXciwojFgKI4HDickMT6hojBYnsp3z5W5W4VZwXBTNB+kGq8AZ3NkVhHqpSQDDSMQVpjViaF3PNUZt3VFvndDG6ddtOROuZBa+pYGzG8WUr9D72hxxj5mIW/vyek5VCDXOutaE+ODB0ugU9vaSwyKo2gS4YqLCsuL51tzOtQCYhfN0FnNPsyR9/rY3CgWBFwSsabY+/fq8qIPCjw9ndff9c7kJ1y6Ez5auoTB7R1E+hiQyCF8eZguKX4V540FLz8E2ycMvfegdi1ona+DzkwnQXV8szl8HXNC49dRkkwOa6Hv7ilLwmZ7AdEH0rqtJM4Oly8N3c5duHv9p1H0/U7tlYu2FXkg4c0BlQMeiuaeYkWEwPWTyMs4tA3OQ7OZVwb+nSwsuEnoUCcitlKnOCFGPaiVwPBtbulWTiKCV9SD8T/nm+JFag2JmbNcQEq6tM4T7UmoB1RtJy6FHRKFPzOp2q9FdnziP2jzeboNPDWj8hxC+95R53HXV3a+aRt9D93XyzylkVTCA5f9h2AS4YnKS4jKJ1LxAN+5m4rMr305nMlbAPu8taS7RTp+NawY0+fhgj/i4VydNSWzopmQEZwcNVoDaKUBWv1lCre6+7ehh5MjIJ9dv4UTOtzjPOT1F1frabQio0p3GDQcIYUtWPe+uihlEXeYe9xZFWMYUHEIqlCSvmztHsFmzbV+2O7G32gYDcHJpj7F/dvhxRnaGfveDlhf3haA7UTUNH1qbb/NgsAPB0wBUFikec5rBO0kxlzJ7aRdmzDgFkHoiFKBFrM4Qm5QNsOqJmMK2ryHYqD/3U111/rFFYNgQm76g1/0KY0U+cuB0/LmsJEMYkD8Jaum8XRrjguoEuGKycnJicy83RnPvGaE+ufG7uVHLWFrSLELGK9jacTjbxBvMZktx9pXKIhrhCIq/CAMTuEagxiqY6hWCElQbzd46frx4NrB/ruEIgsaqpAzYrnhQ8NiFCAL1Gw9NXMKlL8vHASd53jHDx8XFWakkTPZvJZQqLslbyreksPBjuwiR0AfuZAmBUUEckXRQAU+n5t4V0DmeK2+GewGll+9yZ7t3Zy/IAtV/h5HMHVjjhHaNpuNUxwdmgqaTFupcoIcUduSDeDS0d0/EYXkR0tV+rB9DNPTTgIbAUnEGrf46Pmm5GsAat3UuA7Bx6djGZ9P2ZgS4YlIyMiJC1p6Xg75dcIOCfglnT8OUTzCFc7xkLGVRfNPLrqLydEyS5deYAtaI+on+n1Nj7HFlHH+i7GvgqUFD7wn1isBlWt4wFeez9OoC1p1vWv4VRPd0hrjyER84Kp2QP631HXSiRucRjdr7cneCDDLWpL2mZNHV+tk7WFrtPwNk5vQjD0+rERKdT16kKaTmjNVC1p7YoesmjjPEwuylny2DT+ryG2ApjS+dDk69JZqBRK9sYp4C1ok3d99A9ZUgPiGPiHmNAQVTNEVQxIoRqEomhvQWDb1IBLhiAhJyEpLWm9A1sUBntc/eRSxcqgt5lLJqqfQ7WXuVr1S2RPKzktaIF3CTNSSe/XYZcnzN0nBzjpZHl3aXFBpkM6WoOhvCuA5euLGLzlKtwqopSRJK84eaCsIkstioDp0qwQQZfFNG4LToB04SstZrM5GVLLXDOoNw6otxCq0TAeMfmtTesO0CiqIuDUESiIxOzdiNwI1Iea+59dQFsHhJ/vbkcBC8BnPzaQ6CQbT6ncIqT/6G5JgC2O9SYVLVDD9AwGFS99Zkeu5IH58u1COdu5MfuSTLAm1HYN+jdCY4BLhh8jJickBIzBehTsExDeTs4B2CTxJJx5ZPb6K8H1SvSLeeMPgC1p9qoG0OplGeH9ojuSzskrx35K+XEElWv1hhoGVRZnRUzALWnuiwc7xsPO0lZcRr3k2AvN8YGF3y1btyYXZrUKsEviQkZkgh4tae2GZYwcuig/rjVy0vsDlUVVHnNc/48xa8LCiHrhAWlpoXt8puArgYuenSyEkQO9YCmRxd+JtMxN5R8zWG6OTQTqfZtZyR/UthAtav2AGcM4GJ750YKJxZgKffUFKv+R6ze6jtNO4WHMu9jPXO+wS4YiJSMlJi1WsVZjXkp7HDpDl9zBhL1wtjBu+73H1xFNFbQB2HGcBowtjBxdUJiybMA2Jt725QrPTPJR9grPsrr/hATsJu1r210/uBxALrvGWJKml7MPgRKC3kZq4Z0amVPA7EMjbNj7O2vnZg2jhIAtafkU2sgOf6HEZmgoVopwSvcUaZJl/rF6yQ5s1htyxIcyFS8QiNYerBjQPsd8lp0uOw1KGc3iJNpwFsapvaI3U2iLUk1N8sb7KKiJDm2leCBX69iP0C5ZMlhKkeD2VAQRsjVZqtiyUrIZAF0wS4YiKCUnKIjB4HNbUDdlYIhNs9e63aQWvPXptAC2gbRWHtsoJPQD1/crgTkEMdEWLhaZMOD7OKQ33/mwIyZcCYw4x+A+tN6k8qSkFNK8lvy0iFnYFss91pDFH1dDSKPMe8aUorCZ3uxWqT98fH+hVKWmptj8wIDbt2Ghaxq6haesrekUneViqt6xaMchccTuA7+4fw0yf1LQJDuYQiuAvuwc/rJU7XsfbQkDQAnUVNbTZ3qtHlQBwCF8FB1jlInTvYMLCeCIZVspA/Hmb3pDQM6ISwK6Pm3VgGFj2CkdLbOHCagrpt6/JuegUEBLhiUsLSsiiMT9x0FE5IvES9GZwBk82c0cS88qxiXXr8qhKNpU4EecZOd/M4DjPNX8Q8wrphh/bCv9uKaTl1BIwzsZg4t2rJE9ANDm+7jomTZwpwfaovpGiFobSDLro1IoTLhkhc101NewePtzTBo3L+5tFblwn7Ciz6Ok4G2Q+OafdYewiMZSbp4C2zlj2XZ1PZV59WW2PM02nXbT/KUbd1bgnhNLbLIky/BF8Tg9wC1VA8he0TeQaetyOQNXVObvW781x9tPZdNd/jZ0vxJxDhCA6NXjP8V4+hNgkS3oBjbGZjh+9i9D8aeXD+wPgd8TenUE5gV+3rcpa/TPGiDKcUuGMjIzLzGJLlpZxjGbta52QXBZmMtFMoIQoTI0iIfJI9CB0vP8i9dLyHzuaYffWFL+EVaqS/lQEIEsVzTPgApSzu0elPc5a4S9F49iniX8G+IhL4IcELXrr/T8+mFxq2WDgbPPc9kYmcWAgUwqDLHexqV05gavccqwfb4PWfkhwIfVv2QTtAyYmSuIPpoEPOrsGyQoN916g8ZhrsZ0gXgFfxjimrfRg8S5hoWRFPOZDrMLNls0AbFVVDatWb8St7tVlj+mhm/HBXp6M9aByIEx2eaD4iRmg3qcsCdWsJltYln5gRFBkZIGgI8yzRjZq0mrgQrofe2Odnq8V9mYjIdRSuV7X/XIMw51MHccTJrVG1cGmo7o3Yh/ZloOBHuKDFbd5NrFoYwlIb+UeYBLhi8xMzIpgkjsMRHcBS38f9O4oqxUoJO169xe3biyNBCVpiH4XRKV3LOG1haLFjGbcwb2k/GCVW8lf5wAi5YA1Ffyt4/IO3HoCAKZQu9x3CVHMNwNJ1bjjwnt2o48HDRnBCjyAvvAgkGYvrWQ6Fz6D17x/aS/eHXrjANcHXHnLdlUxqtMmW1ASipifjGXWkBnPLcF60ZeNtOAgmlQCAUYRLlat0uGxWItWQ4FpFGTxHFJ+hCiSRgxq8pHmhGScqSmU4l6BHgvfFBG1ICMRoFC//7zrYdu53BAl0Q8jqFEvVN/COxSvRpfeBHDOSKlB8pQWv1JBoFBSLopGj/3n2HUmPtRYfrjiO9HDK9rYZqfp0GOVNYCIGzWSqWXcq3BYZKgS4YyLjg6M5sq0XQ2DHp/or49BOHs/vpwn9Kq1Iao26oTa/mTsigz8ssB+4fDP6icBXwWa/YjfXKAmxcAmPXah4d4pOXnzI18pWs4Nn/+9WiQlobzcdZVLIGQYEJlLTBv7sFNtmz83Jo3yO3tF4L2UrJ+LrLpMcDjrDt31mZcHXKaqeFc8t9GW35PplwRr9WVN11ZyS3Ks/DvNJAAS/JIvZ5vmOIsw1YsI4kVWkfW47bKRGettFUOCE55ZnVpt10NVU03dXNxIBW5/48qK3UZn6aKwaK03X5AgL2mAvDmzIx82w1zanTykt4YtmDUyoqQBRGUMvWDFkZHAn7+tUfePVwZl1/YEoBzb1lTFojGWx3A3VeHtRpkcP3sKYKS4z2NU2SFJIg/wRBOxW8tHM0M2mh+StsgS4YmIycvNSzgW+x0rq3DrGrhLLWD+y5iSHshbwstvUYwtoNFNLyPn82XsKlQLRvF6cVs1EG+ywqLkH8JjeNa0avuS+8GMFB7KV1kFq43BTgrbfDtuSjU+5vSUtn+20DTYqmrZE2GVFHAQPynkPvTepkhPufG0aCA0Xzz3vpIQdW7ASkqo4eUpGH5vXrZykZyMRo8QbFzLUgkPE/lQh4j0QD0gjEuqpw/iw8XBly2hvzAsTLR+0oIVVmIK8jfSUABaQKp7XzEciQoFANKbcn02dhICm6PbPUJNkQYnJFvtVL/A1g6n6vNbDPbYnFdny+iOwOQdafpR7+uxFqQY8t/7HQwE2GH/4mZ8xrNnPfxgE9nZ1MAAOi5AgAAAAAAAAAAAAMAAACJTdT9G/8o/x3t+P8Y/wr/Gf8//zL/DP8d/xju/wH/G0uGOzQtLSyckNORKJlHWvtbP76GJiMKYdELYnkg6m+HxiWEik5OAsTlexrv2XahFDjTtku2ZtUMdRkZI/OYgk0iwJyWlzTV+1EstR+Mt6KngyM1VbzSsy/XcjxD66N2BhvR+fqu/RhQnOx2OgOCA169Wy8rZniKZiNXxZlTExCqPRZyxUKsvsgRP8gFpvElkMwom7Skijry1rIlmbyxvcNQFeCKR0S1LokHNeNZP/YdzHgnuGTQ6QeQO4+GMwkxHInPLsBToD/thAqW54HHwhaKVT+AEcOA3lSB2xHewRnNJAtne9USLoWvuVdE0dZkewdrro7qHtDci1RBqIn4tvPJ2k/0WXBsSuVMIIpQMvcdN3jJRJZmB6I6Hm+xQ05vG8V8Fm1m1kBLhiUvLi8vgY+IxLUsBe0VZyI/6e0NO9GtixhasnNmq47o4lkBng2SKC3uppug769VTb/Uz6dsziPFoUqqfVA/tocUL5C9f+cFUP9PD9hTQ54GzHC9y/Vo/Kwqm6AYcybYD2hfU9BbMQ0T71XiM15vCtD64f4doy0bq7xTAh1hA5rWlfXOQYXzNpt8NMpvgfqg7PNUuxLJCNe4cEwlgSrkFNBQavlPZbAyTlauU4kL4JByjiAUo9wgm6DtoII1qYNlLbVXo7Y6YtP6mOirXTpfi9J65RMQjYOrVCP2PsXWsy4ecHzATRC9tON2m4+YIIV9Ie6Y1R6dVFeSfbkCeRvmjYnpxtoZBb0sq+XmcADNYWdSFF/XMMn64aJzoEuGKSglJCWBKb3wGmysObxYG4VDHtd+auyAqr+CO2R+KwbRM18NdbVjOGBU25aXwImV+UNeMw9byUYKJG8/A3tnmyw6J65vIcY0CMFf/dllU98CfabhkTKJ7ENwKWjUSyMcWBZlTpDOlmhjYXhvvdTtVHG7y0I7lH3hBIowMKnKxn8fOIQrxfUwkC7ZYsk3+8y0wHgcm1jLEP9T3H7uM62YLr9O8NhKjspwozYc5ntdrgPSbJbzqTov4RRlEOeVqY8towqGUC1ptQeUv2gqIoXEG6TsArZfj7AiTna8oTaoF+asrga2HXs7FhGVQEuGKSUnJCctav1Os5JwaBUiz6pxL0Q6jnchQlP0nPVDQF4XvDE9gBRIlT9PgHm+kC1p31tyUj/e74S9SP3VXKRg+XNq19I09Lh859nm6TQzzT4DbkAtaawyd8hCLu/mfHIq3s2GyteBMkl60bTTWZczB4BgucRKFVJCNtgs12UfO+KPifnDG8/JyKnirZMhkX3GVhFlJ0s6u3sF+dmDeIAsGiZ0xvd8Gop8joGfH7Hb7f8+g+3OUGcQx/VEJEeMD2aRFxI2oQ6BCSk6oTDEVs6avWHD1kv3TatZpMRH6DAaOIDvIf6AzU7f9IAJAMD9As+imUxQ8bGHS4YsLDEvLYENyDvnBFWKduG13OCbXxZ1M+CGCXU0NQ3g8HqIArRchT2tmErOkytzoLpggcMUoCFTzldemGKxQhIEhE3obKwY/b4i6OVkwZorjyrJNvjZ9x3wMNbImkCBzzalSJwQPU4RAff7XzPH5Vn+M1JEBis4gocoIF8kpo/sFT8TXeBBepUhSgtw4CHXgebFU7kbUJkvAzAJvjcYMuh68QQSBjVfnuC/bXdvfrHz1DBuS/N5wWWzgb4GVLOK3XJ2fx4dGT6v4X5QaLrbjoRO9V6RZ664BRhzGcw/nvN+3xyD/6DX2Y+QEGCKs8e0wJaTXWvXeB5/9VOFx9RNVjw3/SEGTVoe+6EoeFgVfJhX1gAN3OWQS4YkLjEtKIpikWhzvi/1dHcdeSl0YtP7Og7BsvUQmpfDU/efuE+7QddoqYqGgeCWTkQMg+NdzlqRVo8+UQGmwv9tauR5CAIloSbWC4ujBndcAzRBQFfYaNSLnc9SgE39lDY3lA1crNmmS0JB1SfOr86/KnxX1ZU1ugj7VfXKSG5oZ6R3mjzybsbAjkpoW57788lJ91MdLiCya8++5CCMen3P3ClsF3P6IRQIKU2+IieIpnq4G3bAjoB1ckitNXQJM/aHPNN2g7hyz2XXJrNMDfx+LUX5FVQ/NUXnj6RzvoKSsdLFnQff7ya0X2bB3SJLUjyd5U349zTlaWob4HYZIOz5y/lGxihTIEuGMDMoKC2CIrMQ19/m7QTHhMx8XPLIR+l/XMSVSXxS6hBX+QMtPdP5cPL4oMLg9ogo8wc1FICofeUT2rS1V/ISB4Nsx3CSU3DUkiP2WzFb2E6kRuTil9wQJwjJ6uWB1mHAaE4BbQe1PxarI4Yribc/dxAmL/ChIjWmYfrEeoA3bT5NmRZicYUo1fmMlxoF5CzAqWRgVV6m/M5lubkW/++2TaX6Xq5cW3LHYlmtbOxQlLSelmhveebGsKeSKw/bSa/XSzk0bsoMnrW6COo1SVktcEPd8f2EITIgsbmm5kQIT0wvXo5gRKXuyvfqlIibn0QlMEfv2RzbmAix0o3myncmHvAbbkeU8a/ASJzLv7WmE+YgnmRoWiBLhjM2NTQzn44SJF0fF4uzH2Uyevc3maXVrajBchun1sTYzkGizJ987TRUt1yNzm3QgPxXoC7nWnFknTD3YpJwiF4aXLLS4fZrAFfBgaB+KasxpLrbIoRDzxsTawsNcOGs2Sd/DFI60PcT4PIgpc7MvcZL8WmTbjgOlMo8iAymh0q896V6R+xrkpZO5u3wMpg2DwS+A6mh+Go87Ew8ozgVk+GJ11ucG6qtguw2OmElON+nUGojrKuK0HnI8PiuiFiIrp3ORhS7xYKCHNjNWiOO9xe4rVHk5XyAnCN9IaCxEzvY2Rk13C1Ql62pdSeRr9bkXNuJSBoNMp5S5tpXXcrDdC9Ieez3wDl6H0mqnZqA+Ef5/gQitQdH5LJCkzfMTIY7JMfPzCi76wwS6ksYxA6hxUZmEC8eHGjEsZaz/0RLhjAsMjM2nqup8c6UBUjPzV8INjNaGtCTM28bpKmiTj1lRxf8TjuYpBrbzLr5nugUls10Y75YnqtL/9Sg0R/hYpO9unvsp59H49MrfBjPfXd069mlHcIce+AfYVQ6zqn+TCCeUCClkF5MhTOu0gZJ16VWkLuAvKiYP2K9GgKSlMvTPJ2FtGxs/sRUK2+PcxOA+ECqgJ11JiVrChkfZapqnyX3tGHxR/31h5llUN4vNGRhIlSZ0vmGy/UYGdOxZ1+b6mO24C87RJ69OzHl6qPrXLZe+U5r3NDwReZ9J1UPAbeu8xPz96Tdy6XU9F/DAqLQCh6JwZMdFoviEgMJWp696l3Hzm80hPj5mKTsq00w/50zSFQ0MbooXMA3BQRTiBESKe/kvqY7ZZAqaKzB90/GQEuGMSsoJCiekbL7dIm7lQGJ/HGvlpur5s2OdPv0QrFYrhM0i0dRYklMEt9CyZpbs5CX2XQNhIbYgYVsW/EcYDZwq9AmZ2m2uVihQKvmjzlH/QQs9iEoerBMOKo+FQSAaqL5wInd1CeK2f7/GSFU081BHyzqigO8lh6KaMNVOBE1H77Razpniq5dk42JdoAKLlle9K3/nIg5xRUPis47KgSEXdG35cZ9Bvs684A+48iBDsOjgpD4RpZxLA5f777Sa4MJruco1M/4rKXqpuOwt/BtnuImU7AdoF9sUtxbPvognrfQ3JLAkPAYIA9VQoX7J2niNEm9PmDWutk2dqs7p6UWTVq0eY4/SCnwpkuGLSkqKi6ihUAeMEnIZz3QkzMxLbrTvJOJBsyDw5yplcBza6aMOTpSLJTjHRtM91Xp/UCinD3PwzmUnRJHIRIRZY4JFsLK+7mzficuVkt114wCF+gJbjqS7WTMgKJSmSgfoZFGJqUJGjywfRLz7+n1jSMozgCL7OaOcb94v3lWidFgb7T60J/xvJX7oW4gb6fxK8Q7BNO2+cL0HU5q4j/R6lXnHGv2Og1QowhwUKyddqAK+wKrLBFU9kA5ANI8Q/oN5NeM3CiBsGHfPACVrRIruoZkfFpyv/GcNUg3rHigCvrjYIuUD4h+2eR1Ut2DTQrtmq8vHsMmUIFZIpNzODDfT155vmJaztQPiJBizsn/57WMn14ZibAdu+agS4YyKi0yKZ6rqKvl5b6DMyDPiXFHUk0hpsz+nBYA8qJVmCEsEdib9/0WvCfdRfMrN7In3nJUBQjYnkQI4eAjTexW0v0Q0GNuLIubgmFQgXrlx8W1ymTFLM53NjfpoAhaAWWgvb7uRAzUN7cq8wfx/xvt/9rqccNVkAxnWyFZ1JmQVTKwh0CX8tnr/65Dy45Wi397XAVPNUc4HQvNOaZlEwABCj0AdpuyR/tXIBRGz47Fek+0OVCSsGzKoZgBC8CJodCNwn3S6ksCCbTX1wVcXdmDbTyIO/fpN8rDgOQAYr/Qbq+63+ystT/YqI7WVOFuI2eTnEbyb6YM6uwCN46DVvOGAc22VjqEbrG7m7Hh+/tXIHxK8IaAS4YrKCQjJ4+4lm9ZKEMrr1H2LOqV+3phTyiBhVJVc2nSrXOip5IGckfXoE2wWdJ66QqPA/iArJGGKcjoiXypMVOcXKrH5TjU58inqaTjlxh1sHiTVC+1VUTAi9lmWjiiIsSEMAyvLuIa1u7GpcPlg0qiCYalxuQc85w5J8w2MmSFef0JQ5AXQm8OwNx3fjYLWzMpWc9KzvlnuHd5VF+hJYArhoXXyw0o4QvBxjujMNFWZikiJ85PzifrOiVx4oyCeGv79W3KWikrcia6dbHFV/6Y/AiAZPTIND6pr9FCsyhTVz3FOREKFYqBTHJH60uGKiknJiQrpl36bjxxZYFavud67wlpfbHTMyJAlY7fuJHPrL66W1wRcbThE5sqvIAtvupGZ8D6z2B87FLAY7LtjUuQBb2acVnPG1EzFW4wGlZtqHKwWDeYyIFrbENFGM8wKO83hxL1qkcyedUhA5tc+/v/if98Mh53akLNOLdcQIpg6eVurlF3s1Im/6M6VZKVY1yeMsp9hnNITPw2zMk4spbbyDZgNLqExpbZHmxXRkMAYaZ1lIgiLuxdpm2j3TZhtazE8FfZtqfEglorqxNrUQhocwY+7Yx2xZYgyJ+hH9BvJh8fwMrRRMVfCet/7M/5mW4OF12iAr/HgRwT6oBLhjEsNywpj/Qgd0GmI/XVqT8bxE2mOf/+nNKm0eBzsqeoBkH0RqLWYyKkNgFvp/oJ6+JPPjop1JDXWTZdWTRl26Wu9pDSmLGKw3RfB3c5oARoKgsLGr24XRiT/pdI7U01FdeAkGyOoZwpcpdSWBm4rXNsEiFJPehWpfXKZYZaEkXMq5z13uvFpSTEBTf1cjkDnnZA1stVbo36QJHrxX0SDH3GgFjsSYcjsuQtrCw559vP/+yVWs3LKIaeoTwoVq2ixuDklGRgkLE+0MWyf1jrMobH6X2QP+hJhPBYdXBhci7erMki+9Rpbpx0XYMpOWyNZDQ30xMHxtp/Vjqn/50GPKm1xEObc0rPuxB+AvWhETMoFdESgg1RN+A=\" type=\"audio/mp4\" />\n",
              "                    Your browser does not support the audio element.\n",
              "                </audio>\n",
              "              "
            ]
          },
          "metadata": {},
          "execution_count": 7
        }
      ]
    },
    {
      "cell_type": "code",
      "source": [
        "input_values=tokenizer(audio,return_tensors=\"pt\").input_values\n",
        "input_values"
      ],
      "metadata": {
        "colab": {
          "base_uri": "https://localhost:8080/"
        },
        "id": "2J4aiaqTdSR4",
        "outputId": "bb112e97-57ea-46a1-96ad-bdb7c9ab6205"
      },
      "execution_count": 10,
      "outputs": [
        {
          "output_type": "execute_result",
          "data": {
            "text/plain": [
              "tensor([[ 0.0005,  0.0005,  0.0005,  ..., -0.0839, -0.1366, -0.1471]])"
            ]
          },
          "metadata": {},
          "execution_count": 10
        }
      ]
    },
    {
      "cell_type": "code",
      "source": [
        "logits=model(input_values).logits\n",
        "logits"
      ],
      "metadata": {
        "id": "Fccl2Vt7fG7P",
        "outputId": "618ddd42-9330-47e7-8650-24f7a8b36d2b",
        "colab": {
          "base_uri": "https://localhost:8080/"
        }
      },
      "execution_count": 11,
      "outputs": [
        {
          "output_type": "execute_result",
          "data": {
            "text/plain": [
              "tensor([[[  9.0231, -21.4218, -21.2721,  ...,  -4.3872,  -4.7066,  -8.6011],\n",
              "         [  8.4418, -21.2081, -21.0623,  ...,  -3.6410,  -5.1258,  -8.3230],\n",
              "         [  8.4753, -20.0812, -19.8924,  ...,  -3.4456,  -6.1362,  -7.9191],\n",
              "         ...,\n",
              "         [  7.6372, -19.7500, -19.5226,  ...,  -2.7456,  -5.4227,  -4.6615],\n",
              "         [  8.9251, -20.4734, -20.2398,  ...,  -5.7302,  -7.1205,  -3.6304],\n",
              "         [  9.6507, -20.8025, -20.5987,  ...,  -5.8999,  -7.1072,  -3.6161]]],\n",
              "       grad_fn=<ViewBackward0>)"
            ]
          },
          "metadata": {},
          "execution_count": 11
        }
      ]
    },
    {
      "cell_type": "code",
      "source": [
        "import torch\n",
        "predictive_ids=torch.argmax(logits,dim=-1)\n",
        "predictive_ids"
      ],
      "metadata": {
        "id": "R5adKW0qflrC",
        "outputId": "c90f1577-9a62-4e76-cf57-552ca7259e56",
        "colab": {
          "base_uri": "https://localhost:8080/"
        }
      },
      "execution_count": 13,
      "outputs": [
        {
          "output_type": "execute_result",
          "data": {
            "text/plain": [
              "tensor([[ 0,  0,  0,  0,  0,  0,  0, 14,  0,  0,  0, 10,  9,  0,  0,  9,  0,  0,\n",
              "          0,  0,  5,  0,  0,  0,  0, 11, 11,  0,  4,  4,  0,  0,  0,  0,  0,  0,\n",
              "          0,  0,  0,  0,  0,  0,  0,  0,  0,  0,  0,  0,  0,  0,  0,  0,  0,  0,\n",
              "          0,  0,  0,  0,  0,  0,  0,  0,  0,  0,  0,  0,  0,  0,  0,  0,  0,  0,\n",
              "          0,  0,  0,  0,  0,  0,  0,  0, 20,  0,  8,  0,  0,  0,  0,  8,  0,  0,\n",
              "          0,  4,  0, 20,  0,  0,  5, 15,  0,  0,  0, 15,  0,  0,  0,  8, 18,  0,\n",
              "          0,  0,  4,  4,  4,  0,  0,  0,  0,  0,  0,  0,  0, 10,  0,  0,  0,  0,\n",
              "          0,  0,  0,  0, 12,  0,  0,  0,  7,  0,  0,  0, 14,  0,  4,  0, 17,  0,\n",
              "          7,  0,  0, 13, 13,  0,  5,  0,  0,  4,  0, 24,  0,  0,  0,  0,  7,  0,\n",
              "          0,  0,  0,  0,  0,  0,  4,  4,  4,  0,  0,  0,  0,  0,  0,  0,  0,  0,\n",
              "          0,  0,  0,  0,  0]])"
            ]
          },
          "metadata": {},
          "execution_count": 13
        }
      ]
    },
    {
      "cell_type": "code",
      "source": [],
      "metadata": {
        "id": "TL681Sq7gM8L"
      },
      "execution_count": null,
      "outputs": []
    }
  ]
}